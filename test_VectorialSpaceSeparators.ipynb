{
 "cells": [
  {
   "cell_type": "code",
   "execution_count": 1,
   "id": "35ff5ea0-f406-4194-9a70-05868aee7f3d",
   "metadata": {},
   "outputs": [],
   "source": [
    "from LorisNet import *\n",
    "import tensorflow as tf"
   ]
  },
  {
   "cell_type": "code",
   "execution_count": 2,
   "id": "8b7fa951-331a-4128-8437-962b48a73a7b",
   "metadata": {},
   "outputs": [
    {
     "data": {
      "text/plain": [
       "<tf.Tensor: shape=(3, 4, 2), dtype=float32, numpy=\n",
       "array([[[0.68901026, 0.95707357],\n",
       "        [0.77311003, 0.51773214],\n",
       "        [0.19281828, 0.38130546],\n",
       "        [0.34489274, 0.97888815]],\n",
       "\n",
       "       [[0.5978012 , 0.42876053],\n",
       "        [0.39102936, 0.12214935],\n",
       "        [0.57109725, 0.932186  ],\n",
       "        [0.95773804, 0.72559774]],\n",
       "\n",
       "       [[0.17522418, 0.62026286],\n",
       "        [0.04013002, 0.6292093 ],\n",
       "        [0.957111  , 0.3401643 ],\n",
       "        [0.01441944, 0.9280187 ]]], dtype=float32)>"
      ]
     },
     "execution_count": 2,
     "metadata": {},
     "output_type": "execute_result"
    }
   ],
   "source": [
    "X = tf.random.uniform((3, 4, 2))\n",
    "\n",
    "X"
   ]
  },
  {
   "cell_type": "code",
   "execution_count": 3,
   "id": "81591716-4aa7-47cf-9969-3ca64b5f1ec3",
   "metadata": {},
   "outputs": [],
   "source": [
    "l = LinearSeparators(activation=None)"
   ]
  },
  {
   "cell_type": "code",
   "execution_count": 4,
   "id": "e74ca85a-d9b9-4a8b-b8c7-f6e56b528929",
   "metadata": {},
   "outputs": [
    {
     "data": {
      "text/plain": [
       "<tf.Tensor: shape=(3, 4, 1), dtype=float32, numpy=\n",
       "array([[[-0.5280725 ],\n",
       "        [-0.5375518 ],\n",
       "        [-0.47585836],\n",
       "        [ 0.7189028 ]],\n",
       "\n",
       "       [[-0.09293267],\n",
       "        [-0.23568794],\n",
       "        [-1.2462571 ],\n",
       "        [ 0.35896236]],\n",
       "\n",
       "       [[-0.47702128],\n",
       "        [-0.18396515],\n",
       "        [-1.0773754 ],\n",
       "        [ 0.7589693 ]]], dtype=float32)>"
      ]
     },
     "execution_count": 4,
     "metadata": {},
     "output_type": "execute_result"
    }
   ],
   "source": [
    "l(X)"
   ]
  },
  {
   "cell_type": "code",
   "execution_count": 5,
   "id": "829c428a-3673-4ac9-8d9d-ca954004f306",
   "metadata": {},
   "outputs": [
    {
     "data": {
      "text/plain": [
       "<tf.Variable 'linear_separators/separators_kernel:0' shape=(4, 2) dtype=float32, numpy=\n",
       "array([[ 0.4967966 , -0.9094081 ],\n",
       "       [-0.52180123, -0.25909543],\n",
       "       [-0.8315661 , -0.8274658 ],\n",
       "       [-0.24772143,  0.82168746]], dtype=float32)>"
      ]
     },
     "execution_count": 5,
     "metadata": {},
     "output_type": "execute_result"
    }
   ],
   "source": [
    "l.kernel"
   ]
  },
  {
   "cell_type": "code",
   "execution_count": 6,
   "id": "881bb52a-4218-469a-8fcc-a868e6ecb0f2",
   "metadata": {},
   "outputs": [
    {
     "data": {
      "text/plain": [
       "<tf.Variable 'linear_separators/separators_bias:0' shape=(4,) dtype=float32, numpy=array([0., 0., 0., 0.], dtype=float32)>"
      ]
     },
     "execution_count": 6,
     "metadata": {},
     "output_type": "execute_result"
    }
   ],
   "source": [
    "l.bias"
   ]
  },
  {
   "cell_type": "code",
   "execution_count": 7,
   "id": "0defe3ed-2ec0-41da-bfe8-3809af6b4f97",
   "metadata": {},
   "outputs": [
    {
     "data": {
      "text/plain": [
       "-0.5280725023208012"
      ]
     },
     "execution_count": 7,
     "metadata": {},
     "output_type": "execute_result"
    }
   ],
   "source": [
    "0.68901026*0.4967966 + 0.95707357*-0.9094081"
   ]
  },
  {
   "cell_type": "code",
   "execution_count": null,
   "id": "72697cac-235a-4e15-9b68-a03d85aa70b7",
   "metadata": {},
   "outputs": [],
   "source": []
  }
 ],
 "metadata": {
  "kernelspec": {
   "display_name": "Python 3 (ipykernel)",
   "language": "python",
   "name": "python3"
  },
  "language_info": {
   "codemirror_mode": {
    "name": "ipython",
    "version": 3
   },
   "file_extension": ".py",
   "mimetype": "text/x-python",
   "name": "python",
   "nbconvert_exporter": "python",
   "pygments_lexer": "ipython3",
   "version": "3.9.7"
  }
 },
 "nbformat": 4,
 "nbformat_minor": 5
}
