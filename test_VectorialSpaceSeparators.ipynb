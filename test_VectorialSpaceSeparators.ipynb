{
 "cells": [
  {
   "cell_type": "code",
   "execution_count": 1,
   "id": "35ff5ea0-f406-4194-9a70-05868aee7f3d",
   "metadata": {},
   "outputs": [],
   "source": [
    "from LorisNet import *\n",
    "import tensorflow as tf"
   ]
  },
  {
   "cell_type": "code",
   "execution_count": 2,
   "id": "8b7fa951-331a-4128-8437-962b48a73a7b",
   "metadata": {},
   "outputs": [
    {
     "data": {
      "text/plain": [
       "<tf.Tensor: shape=(3, 4, 2), dtype=float32, numpy=\n",
       "array([[[0.14782512, 0.76064694],\n",
       "        [0.6554934 , 0.31566513],\n",
       "        [0.2135582 , 0.64498234],\n",
       "        [0.76735723, 0.48135757]],\n",
       "\n",
       "       [[0.24809992, 0.6745708 ],\n",
       "        [0.08744073, 0.79028773],\n",
       "        [0.5970299 , 0.11864018],\n",
       "        [0.45884395, 0.27129316]],\n",
       "\n",
       "       [[0.15213287, 0.8642992 ],\n",
       "        [0.07264805, 0.37042403],\n",
       "        [0.93964076, 0.08017206],\n",
       "        [0.54099846, 0.7547157 ]]], dtype=float32)>"
      ]
     },
     "execution_count": 2,
     "metadata": {},
     "output_type": "execute_result"
    }
   ],
   "source": [
    "X = tf.random.uniform((3, 4, 2))\n",
    "\n",
    "X"
   ]
  },
  {
   "cell_type": "code",
   "execution_count": 3,
   "id": "81591716-4aa7-47cf-9969-3ca64b5f1ec3",
   "metadata": {},
   "outputs": [],
   "source": [
    "l = LinearSeparators(activation=None)"
   ]
  },
  {
   "cell_type": "code",
   "execution_count": 4,
   "id": "e74ca85a-d9b9-4a8b-b8c7-f6e56b528929",
   "metadata": {},
   "outputs": [
    {
     "data": {
      "text/plain": [
       "<tf.Tensor: shape=(3, 4, 1), dtype=float32, numpy=\n",
       "array([[[-0.36936826],\n",
       "        [ 0.05998242],\n",
       "        [ 0.29106525],\n",
       "        [ 0.11140318]],\n",
       "\n",
       "       [[-0.36015964],\n",
       "        [ 0.6186049 ],\n",
       "        [-0.3971745 ],\n",
       "        [ 0.07451023]],\n",
       "\n",
       "       [[-0.41529056],\n",
       "        [ 0.28040612],\n",
       "        [-0.70168984],\n",
       "        [-0.11979535]]], dtype=float32)>"
      ]
     },
     "execution_count": 4,
     "metadata": {},
     "output_type": "execute_result"
    }
   ],
   "source": [
    "l(X)"
   ]
  },
  {
   "cell_type": "code",
   "execution_count": 5,
   "id": "829c428a-3673-4ac9-8d9d-ca954004f306",
   "metadata": {},
   "outputs": [
    {
     "data": {
      "text/plain": [
       "<tf.Variable 'linear_separators/kernel:0' shape=(4, 2) dtype=float32, numpy=\n",
       "array([[-0.27853775, -0.4314661 ],\n",
       "       [-0.30151033,  0.81611943],\n",
       "       [-0.8080971 ,  0.718843  ],\n",
       "       [ 0.44471908, -0.4775145 ]], dtype=float32)>"
      ]
     },
     "execution_count": 5,
     "metadata": {},
     "output_type": "execute_result"
    }
   ],
   "source": [
    "l.kernel"
   ]
  },
  {
   "cell_type": "code",
   "execution_count": 6,
   "id": "881bb52a-4218-469a-8fcc-a868e6ecb0f2",
   "metadata": {},
   "outputs": [
    {
     "data": {
      "text/plain": [
       "<tf.Variable 'linear_separators/bias:0' shape=(4,) dtype=float32, numpy=array([0., 0., 0., 0.], dtype=float32)>"
      ]
     },
     "execution_count": 6,
     "metadata": {},
     "output_type": "execute_result"
    }
   ],
   "source": [
    "l.bias"
   ]
  },
  {
   "cell_type": "code",
   "execution_count": 7,
   "id": "0defe3ed-2ec0-41da-bfe8-3809af6b4f97",
   "metadata": {},
   "outputs": [
    {
     "data": {
      "text/plain": [
       "0.8444900169876042"
      ]
     },
     "execution_count": 7,
     "metadata": {},
     "output_type": "execute_result"
    }
   ],
   "source": [
    "0.36560714*0.85120153 + 0.7953992*0.67046165"
   ]
  },
  {
   "cell_type": "code",
   "execution_count": null,
   "id": "72697cac-235a-4e15-9b68-a03d85aa70b7",
   "metadata": {},
   "outputs": [],
   "source": []
  }
 ],
 "metadata": {
  "kernelspec": {
   "display_name": "Python 3 (ipykernel)",
   "language": "python",
   "name": "python3"
  },
  "language_info": {
   "codemirror_mode": {
    "name": "ipython",
    "version": 3
   },
   "file_extension": ".py",
   "mimetype": "text/x-python",
   "name": "python",
   "nbconvert_exporter": "python",
   "pygments_lexer": "ipython3",
   "version": "3.9.7"
  }
 },
 "nbformat": 4,
 "nbformat_minor": 5
}
