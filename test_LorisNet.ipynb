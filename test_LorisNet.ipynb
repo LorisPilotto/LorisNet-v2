{
 "cells": [
  {
   "cell_type": "code",
   "execution_count": 1,
   "id": "7a5ad6a0-957e-4a87-bd83-0deff2f1349e",
   "metadata": {},
   "outputs": [],
   "source": [
    "from LorisNet import *\n",
    "import tensorflow as tf"
   ]
  },
  {
   "cell_type": "code",
   "execution_count": 2,
   "id": "3b2aacec-1a92-44f4-80c2-bc09e70da374",
   "metadata": {},
   "outputs": [
    {
     "data": {
      "text/plain": [
       "<tf.Tensor: shape=(10, 4), dtype=float32, numpy=\n",
       "array([[0.58511984, 0.01534379, 0.43919015, 0.4044757 ],\n",
       "       [0.30837   , 0.09543407, 0.2317766 , 0.805418  ],\n",
       "       [0.8765991 , 0.61005414, 0.3070644 , 0.9250845 ],\n",
       "       [0.6953604 , 0.8505038 , 0.63232183, 0.94477904],\n",
       "       [0.97954607, 0.14751208, 0.31538558, 0.3240341 ],\n",
       "       [0.5754974 , 0.3155328 , 0.97568846, 0.47536373],\n",
       "       [0.16417265, 0.5119536 , 0.00186765, 0.91655695],\n",
       "       [0.6193384 , 0.16570055, 0.24693978, 0.6574887 ],\n",
       "       [0.16632831, 0.9029299 , 0.10341728, 0.46818662],\n",
       "       [0.79455924, 0.49603975, 0.25171375, 0.3334757 ]], dtype=float32)>"
      ]
     },
     "execution_count": 2,
     "metadata": {},
     "output_type": "execute_result"
    }
   ],
   "source": [
    "X = tf.random.uniform((10000, 4))\n",
    "\n",
    "X[:10]"
   ]
  },
  {
   "cell_type": "code",
   "execution_count": 3,
   "id": "e1416609-2742-4821-b257-6f7e25098dd1",
   "metadata": {},
   "outputs": [
    {
     "data": {
      "text/plain": [
       "<tf.Tensor: shape=(10,), dtype=float32, numpy=\n",
       "array([0.39135116, 0.4552787 , 0.3542242 , 0.53266335, 0.22070187,\n",
       "       0.61722195, 0.46896565, 0.35056317, 0.5060353 , 0.29646724],\n",
       "      dtype=float32)>"
      ]
     },
     "execution_count": 3,
     "metadata": {},
     "output_type": "execute_result"
    }
   ],
   "source": [
    "tmp = LorisNetLayer(steps=[StepNoFeedback(AllOnesMaskedInputNoFeedback(4),\n",
    "                                          LinearSeparators(),\n",
    "                                          PredictionNeurons()),\n",
    "                           StepWithFeedback(AllOnesMaskedInputWithFeedback(4),\n",
    "                                            LinearSeparators(),\n",
    "                                            PredictionNeurons()),\n",
    "                           StepWithFeedback(AllOnesMaskedInputWithFeedback(4),\n",
    "                                            LinearSeparators(),\n",
    "                                            PredictionNeurons()),\n",
    "                           StepWithFeedback(AllOnesMaskedInputWithFeedback(4),\n",
    "                                            LinearSeparators(),\n",
    "                                            PredictionNeurons())],\n",
    "                    weighted_addition=WeightedAdd(kernel_regularizer=tf.keras.regularizers.L2(l2=0.1))\n",
    "                   )(X)\n",
    "\n",
    "tmp[:10]"
   ]
  },
  {
   "cell_type": "code",
   "execution_count": 4,
   "id": "2ecfca56-832b-4369-b38c-0ffc2e7d04e6",
   "metadata": {},
   "outputs": [
    {
     "data": {
      "text/plain": [
       "<tf.Tensor: shape=(10, 1), dtype=float32, numpy=\n",
       "array([[1.],\n",
       "       [1.],\n",
       "       [4.],\n",
       "       [4.],\n",
       "       [1.],\n",
       "       [4.],\n",
       "       [4.],\n",
       "       [1.],\n",
       "       [4.],\n",
       "       [4.]], dtype=float32)>"
      ]
     },
     "execution_count": 4,
     "metadata": {},
     "output_type": "execute_result"
    }
   ],
   "source": [
    "y = tf.expand_dims(tf.cast(X[:, 1] > .3, tf.float32) * 3 + 1, -1)\n",
    "\n",
    "y[:10]"
   ]
  },
  {
   "cell_type": "code",
   "execution_count": 25,
   "id": "69eb3993-87dd-45aa-81bd-f244a7ff485b",
   "metadata": {},
   "outputs": [
    {
     "name": "stdout",
     "output_type": "stream",
     "text": [
      "Epoch 1/100\n",
      "313/313 [==============================] - 5s 5ms/step - loss: 1.4881\n",
      "Epoch 2/100\n",
      "313/313 [==============================] - 2s 5ms/step - loss: 0.3608\n",
      "Epoch 3/100\n",
      "313/313 [==============================] - 1s 4ms/step - loss: 0.2047\n",
      "Epoch 4/100\n",
      "313/313 [==============================] - 1s 5ms/step - loss: 0.1595\n",
      "Epoch 5/100\n",
      "313/313 [==============================] - 1s 4ms/step - loss: 0.1589\n",
      "Epoch 6/100\n",
      "313/313 [==============================] - 1s 4ms/step - loss: 0.1413\n",
      "Epoch 7/100\n",
      "313/313 [==============================] - 1s 4ms/step - loss: 0.1377\n",
      "Epoch 8/100\n",
      "313/313 [==============================] - 1s 4ms/step - loss: 0.1278\n",
      "Epoch 9/100\n",
      "313/313 [==============================] - 1s 4ms/step - loss: 0.1253\n",
      "Epoch 10/100\n",
      "313/313 [==============================] - 1s 4ms/step - loss: 0.1186\n",
      "Epoch 11/100\n",
      "313/313 [==============================] - 1s 4ms/step - loss: 0.1142\n",
      "Epoch 12/100\n",
      "313/313 [==============================] - 1s 4ms/step - loss: 0.1157\n",
      "Epoch 13/100\n",
      "313/313 [==============================] - 1s 4ms/step - loss: 0.1089\n",
      "Epoch 14/100\n",
      "313/313 [==============================] - 1s 4ms/step - loss: 0.1064\n",
      "Epoch 15/100\n",
      "313/313 [==============================] - 1s 4ms/step - loss: 0.0958\n",
      "Epoch 16/100\n",
      "313/313 [==============================] - 1s 4ms/step - loss: 0.0933\n",
      "Epoch 17/100\n",
      "313/313 [==============================] - 1s 4ms/step - loss: 0.0983\n",
      "Epoch 18/100\n",
      "313/313 [==============================] - 1s 5ms/step - loss: 3.5977\n",
      "Epoch 19/100\n",
      "313/313 [==============================] - 1s 4ms/step - loss: 0.0919\n",
      "Epoch 20/100\n",
      "313/313 [==============================] - 1s 4ms/step - loss: 0.0890\n",
      "Epoch 21/100\n",
      "313/313 [==============================] - 2s 5ms/step - loss: 0.0867\n",
      "Epoch 22/100\n",
      "313/313 [==============================] - 1s 5ms/step - loss: 0.0881\n",
      "Epoch 23/100\n",
      "313/313 [==============================] - 1s 4ms/step - loss: 0.0894\n",
      "Epoch 24/100\n",
      "313/313 [==============================] - 1s 4ms/step - loss: 0.0880\n",
      "Epoch 25/100\n",
      "313/313 [==============================] - 1s 4ms/step - loss: 0.0878\n",
      "Epoch 26/100\n",
      "313/313 [==============================] - 1s 4ms/step - loss: 0.0840\n",
      "Epoch 27/100\n",
      "313/313 [==============================] - 1s 4ms/step - loss: 0.0898\n",
      "Epoch 28/100\n",
      "313/313 [==============================] - 1s 4ms/step - loss: 0.0785\n",
      "Epoch 29/100\n",
      "313/313 [==============================] - 1s 4ms/step - loss: 0.0844\n",
      "Epoch 30/100\n",
      "313/313 [==============================] - 1s 4ms/step - loss: 0.0798\n",
      "Epoch 31/100\n",
      "313/313 [==============================] - 1s 4ms/step - loss: 0.0770\n",
      "Epoch 32/100\n",
      "313/313 [==============================] - 1s 4ms/step - loss: 0.0765\n",
      "Epoch 33/100\n",
      "313/313 [==============================] - 1s 4ms/step - loss: 0.0758\n",
      "Epoch 34/100\n",
      "313/313 [==============================] - 1s 4ms/step - loss: 0.0748\n",
      "Epoch 35/100\n",
      "313/313 [==============================] - 1s 4ms/step - loss: 0.0763\n",
      "Epoch 36/100\n",
      "313/313 [==============================] - 1s 4ms/step - loss: 0.0771\n",
      "Epoch 37/100\n",
      "313/313 [==============================] - 1s 4ms/step - loss: 0.0734\n",
      "Epoch 38/100\n",
      "313/313 [==============================] - 1s 4ms/step - loss: 0.0739\n",
      "Epoch 39/100\n",
      "313/313 [==============================] - 1s 4ms/step - loss: 0.0765\n",
      "Epoch 40/100\n",
      "313/313 [==============================] - 1s 4ms/step - loss: 0.0702\n",
      "Epoch 41/100\n",
      "313/313 [==============================] - 1s 4ms/step - loss: 0.0730\n",
      "Epoch 42/100\n",
      "313/313 [==============================] - 1s 4ms/step - loss: 0.0715\n",
      "Epoch 43/100\n",
      "313/313 [==============================] - 1s 4ms/step - loss: 0.0703\n",
      "Epoch 44/100\n",
      "313/313 [==============================] - 1s 4ms/step - loss: 0.0734\n",
      "Epoch 45/100\n",
      "313/313 [==============================] - 1s 4ms/step - loss: 0.0705\n",
      "Epoch 46/100\n",
      "313/313 [==============================] - 1s 4ms/step - loss: 0.0745\n",
      "Epoch 47/100\n",
      "313/313 [==============================] - 1s 4ms/step - loss: 0.0715\n",
      "Epoch 48/100\n",
      "313/313 [==============================] - 1s 4ms/step - loss: 0.0712\n",
      "Epoch 49/100\n",
      "313/313 [==============================] - 1s 4ms/step - loss: 0.0734\n",
      "Epoch 50/100\n",
      "313/313 [==============================] - 1s 4ms/step - loss: 5.6325\n",
      "Epoch 51/100\n",
      "313/313 [==============================] - 1s 4ms/step - loss: 0.0646\n",
      "Epoch 52/100\n",
      "313/313 [==============================] - 1s 4ms/step - loss: 0.0637\n",
      "Epoch 53/100\n",
      "313/313 [==============================] - 1s 4ms/step - loss: 0.0625\n",
      "Epoch 54/100\n",
      "313/313 [==============================] - 1s 4ms/step - loss: 0.0631\n",
      "Epoch 55/100\n",
      "313/313 [==============================] - 1s 4ms/step - loss: 0.0628\n",
      "Epoch 56/100\n",
      "313/313 [==============================] - 1s 4ms/step - loss: 0.0621\n",
      "Epoch 57/100\n",
      "313/313 [==============================] - 1s 4ms/step - loss: 0.0630\n",
      "Epoch 58/100\n",
      "313/313 [==============================] - 1s 4ms/step - loss: 0.0666\n",
      "Epoch 59/100\n",
      "313/313 [==============================] - 1s 4ms/step - loss: 0.0654\n",
      "Epoch 60/100\n",
      "313/313 [==============================] - 1s 4ms/step - loss: 0.0678\n",
      "Epoch 61/100\n",
      "313/313 [==============================] - 1s 4ms/step - loss: 0.0684\n",
      "Epoch 62/100\n",
      "313/313 [==============================] - 1s 4ms/step - loss: 0.0658\n",
      "Epoch 63/100\n",
      "313/313 [==============================] - 1s 4ms/step - loss: 0.0660\n",
      "Epoch 64/100\n",
      "313/313 [==============================] - 1s 4ms/step - loss: 0.0671\n",
      "Epoch 65/100\n",
      "313/313 [==============================] - 1s 4ms/step - loss: 0.0626\n",
      "Epoch 66/100\n",
      "313/313 [==============================] - 1s 4ms/step - loss: 0.0654\n",
      "Epoch 67/100\n",
      "313/313 [==============================] - 1s 4ms/step - loss: 0.0619\n",
      "Epoch 68/100\n",
      "313/313 [==============================] - 1s 4ms/step - loss: 0.0592\n",
      "Epoch 69/100\n",
      "313/313 [==============================] - 1s 4ms/step - loss: 0.0608\n",
      "Epoch 70/100\n",
      "313/313 [==============================] - 1s 4ms/step - loss: 0.0602\n",
      "Epoch 71/100\n",
      "313/313 [==============================] - 1s 4ms/step - loss: 0.0603\n",
      "Epoch 72/100\n",
      "313/313 [==============================] - 1s 4ms/step - loss: 0.0596\n",
      "Epoch 73/100\n",
      "313/313 [==============================] - 1s 4ms/step - loss: 0.0578\n",
      "Epoch 74/100\n",
      "313/313 [==============================] - 1s 4ms/step - loss: 0.0580\n",
      "Epoch 75/100\n",
      "313/313 [==============================] - 1s 4ms/step - loss: 0.0589\n",
      "Epoch 76/100\n",
      "313/313 [==============================] - 1s 4ms/step - loss: 0.0569\n",
      "Epoch 77/100\n",
      "313/313 [==============================] - 1s 4ms/step - loss: 0.0572\n",
      "Epoch 78/100\n",
      "313/313 [==============================] - 1s 4ms/step - loss: 0.0663\n",
      "Epoch 79/100\n",
      "313/313 [==============================] - 1s 4ms/step - loss: 0.0575\n",
      "Epoch 80/100\n",
      "313/313 [==============================] - 1s 4ms/step - loss: 0.0568\n",
      "Epoch 81/100\n",
      "313/313 [==============================] - 1s 4ms/step - loss: 0.0573\n",
      "Epoch 82/100\n",
      "313/313 [==============================] - 1s 4ms/step - loss: 0.0579\n",
      "Epoch 83/100\n",
      "313/313 [==============================] - 1s 4ms/step - loss: 3.0960\n",
      "Epoch 84/100\n",
      "313/313 [==============================] - 1s 4ms/step - loss: 0.0585\n",
      "Epoch 85/100\n",
      "313/313 [==============================] - 1s 4ms/step - loss: 0.0568\n",
      "Epoch 86/100\n",
      "313/313 [==============================] - 1s 4ms/step - loss: 0.0592\n",
      "Epoch 87/100\n",
      "313/313 [==============================] - 1s 4ms/step - loss: 0.0598\n",
      "Epoch 88/100\n",
      "313/313 [==============================] - 1s 4ms/step - loss: 0.0664\n",
      "Epoch 89/100\n",
      "313/313 [==============================] - 1s 4ms/step - loss: 0.0637\n",
      "Epoch 90/100\n",
      "313/313 [==============================] - 1s 5ms/step - loss: 0.0633\n",
      "Epoch 91/100\n",
      "313/313 [==============================] - 1s 4ms/step - loss: 0.0621\n",
      "Epoch 92/100\n",
      "313/313 [==============================] - 1s 4ms/step - loss: 0.0624\n",
      "Epoch 93/100\n",
      "313/313 [==============================] - 1s 4ms/step - loss: 0.0552\n",
      "Epoch 94/100\n",
      "313/313 [==============================] - 1s 4ms/step - loss: 0.0610\n",
      "Epoch 95/100\n",
      "313/313 [==============================] - 1s 4ms/step - loss: 0.0557\n",
      "Epoch 96/100\n",
      "313/313 [==============================] - 1s 4ms/step - loss: 0.0550\n",
      "Epoch 97/100\n",
      "313/313 [==============================] - 1s 4ms/step - loss: 0.0531\n",
      "Epoch 98/100\n",
      "313/313 [==============================] - 1s 4ms/step - loss: 0.0510\n",
      "Epoch 99/100\n",
      "313/313 [==============================] - 1s 4ms/step - loss: 0.0503\n",
      "Epoch 100/100\n",
      "313/313 [==============================] - 1s 4ms/step - loss: 0.0516\n"
     ]
    }
   ],
   "source": [
    "model = tf.keras.Sequential()\n",
    "model.add(LorisNetLayer(steps=[StepNoFeedback(AllOnesMaskedInputNoFeedback(100),\n",
    "                                              LinearSeparators(),\n",
    "                                              PredictionNeurons()),\n",
    "                               StepWithFeedback(SigmoidMaskedInputWithFeedback(100),\n",
    "                                                LinearSeparators(),\n",
    "                                                PredictionNeurons()),\n",
    "                               StepWithFeedback(FracOnesMaskedInputWithFeedback(100, .5),\n",
    "                                                LinearSeparators(),\n",
    "                                                PredictionNeurons()),\n",
    "                               StepWithFeedback(SigmoidMaskedInputWithFeedback(100),\n",
    "                                                LinearSeparators(),\n",
    "                                                PredictionNeurons()),\n",
    "                               StepWithFeedback(AllOnesMaskedInputWithFeedback(100),\n",
    "                                                LinearSeparators(),\n",
    "                                                PredictionNeurons()),\n",
    "                               StepWithFeedback(RandomMaskedInputWithFeedback(100),\n",
    "                                                LinearSeparators(),\n",
    "                                                PredictionNeurons()),\n",
    "                               StepWithFeedback(SoftmaxMaskedInputWithFeedback(100),\n",
    "                                                LinearSeparators(),\n",
    "                                                PredictionNeurons())],\n",
    "                        weighted_addition=WeightedAdd(kernel_regularizer=tf.keras.regularizers.L2(l2=0.1))\n",
    "                       ))\n",
    "\n",
    "\n",
    "model.compile(loss=tf.losses.MeanSquaredError(),\n",
    "              optimizer=tf.keras.optimizers.Adam(learning_rate=.05))\n",
    "\n",
    "history = model.fit(X, y,\n",
    "                    epochs=100,\n",
    "                    verbose=1)"
   ]
  },
  {
   "cell_type": "code",
   "execution_count": 26,
   "id": "3e8bde61-990e-4750-aec2-f32d3dff78ac",
   "metadata": {},
   "outputs": [
    {
     "name": "stdout",
     "output_type": "stream",
     "text": [
      "Epoch 1/100\n",
      "313/313 [==============================] - 4s 4ms/step - loss: 0.0466\n",
      "Epoch 2/100\n",
      "313/313 [==============================] - 1s 4ms/step - loss: 0.0465\n",
      "Epoch 3/100\n",
      "313/313 [==============================] - 1s 4ms/step - loss: 0.0473\n",
      "Epoch 4/100\n",
      "313/313 [==============================] - 1s 4ms/step - loss: 0.0462\n",
      "Epoch 5/100\n",
      "313/313 [==============================] - 1s 4ms/step - loss: 0.0463\n",
      "Epoch 6/100\n",
      "313/313 [==============================] - 1s 4ms/step - loss: 0.0458\n",
      "Epoch 7/100\n",
      "313/313 [==============================] - 1s 4ms/step - loss: 0.0469\n",
      "Epoch 8/100\n",
      "313/313 [==============================] - 1s 4ms/step - loss: 0.0456\n",
      "Epoch 9/100\n",
      "313/313 [==============================] - 1s 4ms/step - loss: 0.0459\n",
      "Epoch 10/100\n",
      "313/313 [==============================] - 1s 4ms/step - loss: 0.0458\n",
      "Epoch 11/100\n",
      "313/313 [==============================] - 1s 4ms/step - loss: 0.0468\n",
      "Epoch 12/100\n",
      "313/313 [==============================] - 1s 4ms/step - loss: 0.0457\n",
      "Epoch 13/100\n",
      "313/313 [==============================] - 1s 4ms/step - loss: 0.0468\n",
      "Epoch 14/100\n",
      "313/313 [==============================] - 1s 4ms/step - loss: 0.0452\n",
      "Epoch 15/100\n",
      "313/313 [==============================] - 1s 4ms/step - loss: 0.0451\n",
      "Epoch 16/100\n",
      "313/313 [==============================] - 1s 4ms/step - loss: 0.0462\n",
      "Epoch 17/100\n",
      "313/313 [==============================] - 1s 5ms/step - loss: 0.0447\n",
      "Epoch 18/100\n",
      "313/313 [==============================] - 1s 4ms/step - loss: 0.0452\n",
      "Epoch 19/100\n",
      "313/313 [==============================] - 1s 4ms/step - loss: 0.0448\n",
      "Epoch 20/100\n",
      "313/313 [==============================] - 1s 4ms/step - loss: 0.0460\n",
      "Epoch 21/100\n",
      "313/313 [==============================] - 1s 4ms/step - loss: 0.0455\n",
      "Epoch 22/100\n",
      "313/313 [==============================] - 2s 5ms/step - loss: 0.0452\n",
      "Epoch 23/100\n",
      "313/313 [==============================] - 1s 4ms/step - loss: 0.0453\n",
      "Epoch 24/100\n",
      "313/313 [==============================] - 1s 4ms/step - loss: 0.0447\n",
      "Epoch 25/100\n",
      "313/313 [==============================] - 1s 4ms/step - loss: 0.0446\n",
      "Epoch 26/100\n",
      "313/313 [==============================] - 1s 4ms/step - loss: 0.0444\n",
      "Epoch 27/100\n",
      "313/313 [==============================] - 1s 4ms/step - loss: 0.0454\n",
      "Epoch 28/100\n",
      "313/313 [==============================] - 1s 4ms/step - loss: 0.0447\n",
      "Epoch 29/100\n",
      "313/313 [==============================] - 1s 4ms/step - loss: 0.0438\n",
      "Epoch 30/100\n",
      "313/313 [==============================] - 1s 4ms/step - loss: 0.0457\n",
      "Epoch 31/100\n",
      "313/313 [==============================] - 1s 4ms/step - loss: 0.0464\n",
      "Epoch 32/100\n",
      "313/313 [==============================] - 1s 4ms/step - loss: 0.0436\n",
      "Epoch 33/100\n",
      "313/313 [==============================] - 1s 4ms/step - loss: 0.0448\n",
      "Epoch 34/100\n",
      "313/313 [==============================] - 1s 4ms/step - loss: 0.0445\n",
      "Epoch 35/100\n",
      "313/313 [==============================] - 1s 4ms/step - loss: 0.0446\n",
      "Epoch 36/100\n",
      "313/313 [==============================] - 1s 4ms/step - loss: 0.0453\n",
      "Epoch 37/100\n",
      "313/313 [==============================] - 1s 4ms/step - loss: 0.0446\n",
      "Epoch 38/100\n",
      "313/313 [==============================] - 1s 4ms/step - loss: 0.0435\n",
      "Epoch 39/100\n",
      "313/313 [==============================] - 1s 4ms/step - loss: 0.0443\n",
      "Epoch 40/100\n",
      "313/313 [==============================] - 1s 4ms/step - loss: 0.0441\n",
      "Epoch 41/100\n",
      "313/313 [==============================] - 1s 4ms/step - loss: 0.0439\n",
      "Epoch 42/100\n",
      "313/313 [==============================] - 1s 4ms/step - loss: 0.0435\n",
      "Epoch 43/100\n",
      "313/313 [==============================] - 1s 4ms/step - loss: 0.0445\n",
      "Epoch 44/100\n",
      "313/313 [==============================] - 1s 4ms/step - loss: 0.0437\n",
      "Epoch 45/100\n",
      "313/313 [==============================] - 1s 4ms/step - loss: 0.0441\n",
      "Epoch 46/100\n",
      "313/313 [==============================] - 1s 4ms/step - loss: 0.0435\n",
      "Epoch 47/100\n",
      "313/313 [==============================] - 1s 4ms/step - loss: 0.0441\n",
      "Epoch 48/100\n",
      "313/313 [==============================] - 1s 4ms/step - loss: 0.0440\n",
      "Epoch 49/100\n",
      "313/313 [==============================] - 1s 4ms/step - loss: 0.0432\n",
      "Epoch 50/100\n",
      "313/313 [==============================] - 1s 4ms/step - loss: 0.0441\n",
      "Epoch 51/100\n",
      "313/313 [==============================] - 1s 4ms/step - loss: 0.0442\n",
      "Epoch 52/100\n",
      "313/313 [==============================] - 1s 4ms/step - loss: 0.0431\n",
      "Epoch 53/100\n",
      "313/313 [==============================] - 1s 4ms/step - loss: 0.0439\n",
      "Epoch 54/100\n",
      "313/313 [==============================] - 1s 4ms/step - loss: 0.0435\n",
      "Epoch 55/100\n",
      "313/313 [==============================] - 1s 4ms/step - loss: 0.0436\n",
      "Epoch 56/100\n",
      "313/313 [==============================] - 1s 4ms/step - loss: 0.0437\n",
      "Epoch 57/100\n",
      "313/313 [==============================] - 1s 4ms/step - loss: 0.0431\n",
      "Epoch 58/100\n",
      "313/313 [==============================] - 1s 4ms/step - loss: 0.0451\n",
      "Epoch 59/100\n",
      "313/313 [==============================] - 1s 4ms/step - loss: 0.0438\n",
      "Epoch 60/100\n",
      "313/313 [==============================] - 1s 4ms/step - loss: 0.0433\n",
      "Epoch 61/100\n",
      "313/313 [==============================] - 1s 4ms/step - loss: 0.0445\n",
      "Epoch 62/100\n",
      "313/313 [==============================] - 1s 4ms/step - loss: 0.0430\n",
      "Epoch 63/100\n",
      "313/313 [==============================] - 1s 4ms/step - loss: 0.0429\n",
      "Epoch 64/100\n",
      "313/313 [==============================] - 1s 4ms/step - loss: 0.0435\n",
      "Epoch 65/100\n",
      "313/313 [==============================] - 1s 4ms/step - loss: 0.0429\n",
      "Epoch 66/100\n",
      "313/313 [==============================] - 1s 4ms/step - loss: 0.0425\n",
      "Epoch 67/100\n",
      "313/313 [==============================] - 1s 4ms/step - loss: 0.0429\n",
      "Epoch 68/100\n",
      "313/313 [==============================] - 1s 4ms/step - loss: 0.0444\n",
      "Epoch 69/100\n",
      "313/313 [==============================] - 1s 4ms/step - loss: 0.0441\n",
      "Epoch 70/100\n",
      "313/313 [==============================] - 1s 4ms/step - loss: 0.0424\n",
      "Epoch 71/100\n",
      "313/313 [==============================] - 1s 4ms/step - loss: 0.0429\n",
      "Epoch 72/100\n",
      "313/313 [==============================] - 1s 4ms/step - loss: 0.0432\n",
      "Epoch 73/100\n",
      "313/313 [==============================] - 1s 4ms/step - loss: 0.0428\n",
      "Epoch 74/100\n",
      "313/313 [==============================] - 1s 4ms/step - loss: 0.0422\n",
      "Epoch 75/100\n",
      "313/313 [==============================] - 1s 4ms/step - loss: 0.0419\n",
      "Epoch 76/100\n",
      "313/313 [==============================] - 1s 4ms/step - loss: 0.0427\n",
      "Epoch 77/100\n",
      "313/313 [==============================] - 1s 4ms/step - loss: 0.0428\n",
      "Epoch 78/100\n",
      "313/313 [==============================] - 1s 4ms/step - loss: 0.0430\n",
      "Epoch 79/100\n",
      "313/313 [==============================] - 1s 4ms/step - loss: 0.0423\n",
      "Epoch 80/100\n",
      "313/313 [==============================] - 1s 5ms/step - loss: 0.0450\n",
      "Epoch 81/100\n",
      "313/313 [==============================] - 1s 4ms/step - loss: 0.0422\n",
      "Epoch 82/100\n",
      "313/313 [==============================] - 1s 4ms/step - loss: 0.0425\n",
      "Epoch 83/100\n",
      "313/313 [==============================] - 1s 4ms/step - loss: 0.0430\n",
      "Epoch 84/100\n",
      "313/313 [==============================] - 1s 4ms/step - loss: 0.0429\n",
      "Epoch 85/100\n",
      "313/313 [==============================] - 1s 4ms/step - loss: 0.0422\n",
      "Epoch 86/100\n",
      "313/313 [==============================] - 1s 4ms/step - loss: 0.0422\n",
      "Epoch 87/100\n",
      "313/313 [==============================] - 1s 4ms/step - loss: 0.0438\n",
      "Epoch 88/100\n",
      "313/313 [==============================] - 1s 4ms/step - loss: 0.0418\n",
      "Epoch 89/100\n",
      "313/313 [==============================] - 1s 4ms/step - loss: 0.0423\n",
      "Epoch 90/100\n",
      "313/313 [==============================] - 1s 4ms/step - loss: 0.0417\n",
      "Epoch 91/100\n",
      "313/313 [==============================] - 1s 4ms/step - loss: 0.0423\n",
      "Epoch 92/100\n",
      "313/313 [==============================] - 1s 4ms/step - loss: 0.0423\n",
      "Epoch 93/100\n",
      "313/313 [==============================] - 1s 4ms/step - loss: 0.0420\n",
      "Epoch 94/100\n",
      "313/313 [==============================] - 1s 4ms/step - loss: 0.0425\n",
      "Epoch 95/100\n",
      "313/313 [==============================] - 1s 4ms/step - loss: 0.0424\n",
      "Epoch 96/100\n",
      "313/313 [==============================] - 1s 4ms/step - loss: 0.0424\n",
      "Epoch 97/100\n",
      "313/313 [==============================] - 1s 4ms/step - loss: 0.0419\n",
      "Epoch 98/100\n",
      "313/313 [==============================] - 1s 5ms/step - loss: 0.0419\n",
      "Epoch 99/100\n",
      "313/313 [==============================] - 1s 4ms/step - loss: 0.0421\n",
      "Epoch 100/100\n",
      "313/313 [==============================] - 1s 4ms/step - loss: 0.0424\n"
     ]
    }
   ],
   "source": [
    "model.compile(loss=tf.losses.MeanSquaredError(),\n",
    "              optimizer=tf.keras.optimizers.Adam(learning_rate=.01))\n",
    "\n",
    "history = model.fit(X, y,\n",
    "                    epochs=100,\n",
    "                    verbose=1)"
   ]
  },
  {
   "cell_type": "code",
   "execution_count": 24,
   "id": "abdfe9c9-a2be-4c64-aeb3-3bda59c0c6d4",
   "metadata": {},
   "outputs": [
    {
     "name": "stdout",
     "output_type": "stream",
     "text": [
      "1/1 [==============================] - 1s 502ms/step\n"
     ]
    },
    {
     "data": {
      "text/plain": [
       "array([4.0032053, 1.0556179], dtype=float32)"
      ]
     },
     "execution_count": 24,
     "metadata": {},
     "output_type": "execute_result"
    }
   ],
   "source": [
    "model.predict([[.1, .9, .1, .1], [.1, .1, .1, .1]])"
   ]
  },
  {
   "cell_type": "code",
   "execution_count": 8,
   "id": "ddc9294a-6b78-402c-846f-b9b2cdc69027",
   "metadata": {},
   "outputs": [
    {
     "data": {
      "text/plain": [
       "<tf.Variable 'loris_net_layer_1/weighted_add_1/kernel:0' shape=(10,) dtype=float32, numpy=\n",
       "array([-0.01554427,  0.02662213,  0.00081429, -0.00033744, -0.00046539,\n",
       "        0.00025597, -0.18156847,  0.00032535,  0.00076619,  0.00272344],\n",
       "      dtype=float32)>"
      ]
     },
     "execution_count": 8,
     "metadata": {},
     "output_type": "execute_result"
    }
   ],
   "source": [
    "model.layers[0].weighted_addition.kernel"
   ]
  },
  {
   "cell_type": "code",
   "execution_count": 9,
   "id": "66ca9b45-310a-4e69-a996-89d95982d1d3",
   "metadata": {},
   "outputs": [
    {
     "data": {
      "text/plain": [
       "<tf.Variable 'loris_net_layer_1/step_no_feedback_1/linear_separators_4/kernel:0' shape=(10, 4) dtype=float32, numpy=\n",
       "array([[-10.306679 , -10.935148 , -10.498442 , -10.205225 ],\n",
       "       [-12.198647 , -12.96962  , -12.052882 , -11.799391 ],\n",
       "       [ -7.227336 , -12.31886  ,  -7.455321 , -10.698708 ],\n",
       "       [-12.041654 , -14.278202 , -14.05422  , -14.085447 ],\n",
       "       [-16.606619 , -11.759833 ,  -1.1286962,  -7.5626955],\n",
       "       [-13.370773 , -14.330955 , -13.533044 , -14.412642 ],\n",
       "       [-11.219266 ,  -9.217952 , -10.503316 ,  -9.721881 ],\n",
       "       [ -9.413974 , -12.691992 , -11.196913 , -11.4593525],\n",
       "       [-12.849973 , -12.729217 , -14.286117 , -13.571646 ],\n",
       "       [-14.163567 ,  -8.495464 , -11.941258 , -12.606322 ]],\n",
       "      dtype=float32)>"
      ]
     },
     "execution_count": 9,
     "metadata": {},
     "output_type": "execute_result"
    }
   ],
   "source": [
    "model.layers[0].steps[0].vectorial_space_separators.kernel"
   ]
  },
  {
   "cell_type": "code",
   "execution_count": 10,
   "id": "11ccd431-65b7-4e96-b34f-9d367e9e5088",
   "metadata": {},
   "outputs": [
    {
     "data": {
      "text/plain": [
       "<tf.Variable 'loris_net_layer_1/step_no_feedback_1/linear_separators_4/bias:0' shape=(10,) dtype=float32, numpy=\n",
       "array([-11.355231, -13.466333, -13.139659, -14.822046, -12.049393,\n",
       "       -14.455282, -14.05586 , -13.239362, -14.67975 , -11.068076],\n",
       "      dtype=float32)>"
      ]
     },
     "execution_count": 10,
     "metadata": {},
     "output_type": "execute_result"
    }
   ],
   "source": [
    "model.layers[0].steps[0].vectorial_space_separators.bias"
   ]
  },
  {
   "cell_type": "code",
   "execution_count": 11,
   "id": "b683810b-71ad-443c-9a14-c8869445eee0",
   "metadata": {},
   "outputs": [
    {
     "data": {
      "text/plain": [
       "<tf.Variable 'loris_net_layer_1/step_no_feedback_1/prediction_neurons_4/kernel:0' shape=(10, 1) dtype=float32, numpy=\n",
       "array([[-2.977331 ],\n",
       "       [ 5.745986 ],\n",
       "       [-5.436726 ],\n",
       "       [-1.7825449],\n",
       "       [ 2.008772 ],\n",
       "       [-3.7082412],\n",
       "       [-1.3978025],\n",
       "       [-0.6718559],\n",
       "       [-4.1090918],\n",
       "       [-3.0476859]], dtype=float32)>"
      ]
     },
     "execution_count": 11,
     "metadata": {},
     "output_type": "execute_result"
    }
   ],
   "source": [
    "model.layers[0].steps[0].prediction_neurons.kernel"
   ]
  },
  {
   "cell_type": "code",
   "execution_count": 12,
   "id": "24c038a9-dc83-494f-b10b-8d98882b5c60",
   "metadata": {},
   "outputs": [
    {
     "data": {
      "text/plain": [
       "<tf.Variable 'loris_net_layer_1/step_no_feedback_1/prediction_neurons_4/bias:0' shape=(10,) dtype=float32, numpy=\n",
       "array([-0.39410233,  0.7100196 ,  0.02299778, -0.01018157, -0.0135984 ,\n",
       "        0.00743816, -0.7151999 ,  0.01008856,  0.02234369,  0.08257507],\n",
       "      dtype=float32)>"
      ]
     },
     "execution_count": 12,
     "metadata": {},
     "output_type": "execute_result"
    }
   ],
   "source": [
    "model.layers[0].steps[0].prediction_neurons.bias"
   ]
  },
  {
   "cell_type": "code",
   "execution_count": 13,
   "id": "875110be-70d8-4c24-85ba-65e1ad289370",
   "metadata": {},
   "outputs": [
    {
     "data": {
      "text/plain": [
       "<tf.Variable 'loris_net_layer_1/weighted_add_1/kernel:0' shape=(10,) dtype=float32, numpy=\n",
       "array([-0.01554427,  0.02662213,  0.00081429, -0.00033744, -0.00046539,\n",
       "        0.00025597, -0.18156847,  0.00032535,  0.00076619,  0.00272344],\n",
       "      dtype=float32)>"
      ]
     },
     "execution_count": 13,
     "metadata": {},
     "output_type": "execute_result"
    }
   ],
   "source": [
    "model.layers[0].weighted_addition.kernel"
   ]
  },
  {
   "cell_type": "code",
   "execution_count": 14,
   "id": "3a270129-ed63-4af8-980f-707b7d7159e5",
   "metadata": {},
   "outputs": [
    {
     "data": {
      "text/plain": [
       "<tf.Variable 'loris_net_layer_1/weighted_add_1/bias:0' shape=(1,) dtype=float32, numpy=array([2.9335077], dtype=float32)>"
      ]
     },
     "execution_count": 14,
     "metadata": {},
     "output_type": "execute_result"
    }
   ],
   "source": [
    "model.layers[0].weighted_addition.bias"
   ]
  },
  {
   "cell_type": "code",
   "execution_count": 15,
   "id": "5a58a646-201b-4e21-8d56-17f2af781a92",
   "metadata": {},
   "outputs": [
    {
     "data": {
      "text/plain": [
       "0.9130316377153921"
      ]
     },
     "execution_count": 15,
     "metadata": {},
     "output_type": "execute_result"
    }
   ],
   "source": [
    "x = 0\n",
    "\n",
    "(x*1.6993318+0.11208692)*1.8396976+0.7068256"
   ]
  },
  {
   "cell_type": "code",
   "execution_count": null,
   "id": "b41746e0-650b-46b9-91fe-b339700d6567",
   "metadata": {},
   "outputs": [],
   "source": []
  }
 ],
 "metadata": {
  "kernelspec": {
   "display_name": "Python 3 (ipykernel)",
   "language": "python",
   "name": "python3"
  },
  "language_info": {
   "codemirror_mode": {
    "name": "ipython",
    "version": 3
   },
   "file_extension": ".py",
   "mimetype": "text/x-python",
   "name": "python",
   "nbconvert_exporter": "python",
   "pygments_lexer": "ipython3",
   "version": "3.9.7"
  }
 },
 "nbformat": 4,
 "nbformat_minor": 5
}
