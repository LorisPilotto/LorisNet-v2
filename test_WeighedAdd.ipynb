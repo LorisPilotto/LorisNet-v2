{
 "cells": [
  {
   "cell_type": "code",
   "execution_count": 13,
   "id": "e110cbcc-44b4-4517-93d4-9b54398fe8d2",
   "metadata": {},
   "outputs": [],
   "source": [
    "import tensorflow as tf\n",
    "from LorisNet import *"
   ]
  },
  {
   "cell_type": "code",
   "execution_count": 10,
   "id": "1fb2cb11-1ca1-40dd-a2d8-b356c4355506",
   "metadata": {},
   "outputs": [
    {
     "data": {
      "text/plain": [
       "<tf.Tensor: shape=(3, 4, 1), dtype=float32, numpy=\n",
       "array([[[0.84606504],\n",
       "        [0.02131128],\n",
       "        [0.84051085],\n",
       "        [0.791612  ]],\n",
       "\n",
       "       [[0.45507383],\n",
       "        [0.24944854],\n",
       "        [0.46842623],\n",
       "        [0.276263  ]],\n",
       "\n",
       "       [[0.65310025],\n",
       "        [0.44818735],\n",
       "        [0.3366964 ],\n",
       "        [0.8964248 ]]], dtype=float32)>"
      ]
     },
     "execution_count": 10,
     "metadata": {},
     "output_type": "execute_result"
    }
   ],
   "source": [
    "X = tf.random.uniform((3, 4, 1))\n",
    "X"
   ]
  },
  {
   "cell_type": "code",
   "execution_count": 11,
   "id": "21831b2d-c14d-4316-a8ee-f04359df519d",
   "metadata": {},
   "outputs": [
    {
     "data": {
      "text/plain": [
       "<tf.Tensor: shape=(3, 1), dtype=float32, numpy=\n",
       "array([[-0.33683312],\n",
       "       [-0.5813599 ],\n",
       "       [-0.11420575]], dtype=float32)>"
      ]
     },
     "execution_count": 11,
     "metadata": {},
     "output_type": "execute_result"
    }
   ],
   "source": [
    "l = WeightedAdd()\n",
    "\n",
    "l(X)"
   ]
  },
  {
   "cell_type": "code",
   "execution_count": 12,
   "id": "cd6588d5-4960-4468-bb34-6e57805d8f7a",
   "metadata": {},
   "outputs": [
    {
     "data": {
      "text/plain": [
       "<tf.Variable 'weighted_add_1/kernel:0' shape=(4, 1) dtype=float32, numpy=\n",
       "array([[-0.46251726],\n",
       "       [-0.97589487],\n",
       "       [-0.87789726],\n",
       "       [ 1.0272284 ]], dtype=float32)>"
      ]
     },
     "execution_count": 12,
     "metadata": {},
     "output_type": "execute_result"
    }
   ],
   "source": [
    "l.kernel"
   ]
  },
  {
   "cell_type": "code",
   "execution_count": 6,
   "id": "2d4faede-6d48-4ed8-b49b-bc042ed4821e",
   "metadata": {},
   "outputs": [
    {
     "data": {
      "text/plain": [
       "-0.5388020822107263"
      ]
     },
     "execution_count": 6,
     "metadata": {},
     "output_type": "execute_result"
    }
   ],
   "source": [
    "0.81953156*-1.0177766 + 0.3596604*0.7693356 + 0.16301131*-0.54598784 + 0.6038375*0.17819464"
   ]
  },
  {
   "cell_type": "code",
   "execution_count": 2,
   "id": "a3a81bf8-8d55-4592-9c41-59e9cdaf7a7a",
   "metadata": {},
   "outputs": [
    {
     "data": {
      "text/plain": [
       "<tf.Tensor: shape=(3, 4, 2), dtype=float32, numpy=\n",
       "array([[[0.3915758 , 0.39437473],\n",
       "        [0.10638332, 0.17912292],\n",
       "        [0.9923787 , 0.6467385 ],\n",
       "        [0.71825004, 0.3257544 ]],\n",
       "\n",
       "       [[0.9105991 , 0.9461776 ],\n",
       "        [0.637347  , 0.36591125],\n",
       "        [0.90101874, 0.31471014],\n",
       "        [0.8675045 , 0.83666587]],\n",
       "\n",
       "       [[0.80469584, 0.07335424],\n",
       "        [0.6214094 , 0.13312519],\n",
       "        [0.53154385, 0.9789301 ],\n",
       "        [0.2887534 , 0.18036878]]], dtype=float32)>"
      ]
     },
     "execution_count": 2,
     "metadata": {},
     "output_type": "execute_result"
    }
   ],
   "source": [
    "X = tf.random.uniform((3, 4, 2))\n",
    "X"
   ]
  },
  {
   "cell_type": "code",
   "execution_count": 3,
   "id": "680a7d30-8f57-49c0-98bb-a68e6716864f",
   "metadata": {},
   "outputs": [
    {
     "data": {
      "text/plain": [
       "<tf.Tensor: shape=(3, 2), dtype=float32, numpy=\n",
       "array([[-0.5219473 , -0.19287026],\n",
       "       [-0.67656624, -0.6419726 ],\n",
       "       [-0.1734155 , -0.0788793 ]], dtype=float32)>"
      ]
     },
     "execution_count": 3,
     "metadata": {},
     "output_type": "execute_result"
    }
   ],
   "source": [
    "l = WeightedAdd()\n",
    "\n",
    "l(X)"
   ]
  },
  {
   "cell_type": "code",
   "execution_count": 4,
   "id": "c37cab91-dd97-4a62-a3b5-737c79340622",
   "metadata": {},
   "outputs": [
    {
     "data": {
      "text/plain": [
       "<tf.Variable 'weighted_add/kernel:0' shape=(4, 1) dtype=float32, numpy=\n",
       "array([[ 0.23814774],\n",
       "       [-0.22937495],\n",
       "       [ 0.11312532],\n",
       "       [-0.9788537 ]], dtype=float32)>"
      ]
     },
     "execution_count": 4,
     "metadata": {},
     "output_type": "execute_result"
    }
   ],
   "source": [
    "l.kernel"
   ]
  },
  {
   "cell_type": "code",
   "execution_count": 5,
   "id": "a343801e-ffb5-4a0d-82c0-b1489a4009e8",
   "metadata": {},
   "outputs": [
    {
     "data": {
      "text/plain": [
       "-0.6765662748497693"
      ]
     },
     "execution_count": 5,
     "metadata": {},
     "output_type": "execute_result"
    }
   ],
   "source": [
    "0.9105991*0.23814774 + 0.637347*-0.22937495 + 0.90101874*0.11312532 + 0.8675045*-0.9788537"
   ]
  },
  {
   "cell_type": "code",
   "execution_count": 6,
   "id": "a99d4636-9988-4ccd-892f-2078e3ac7ba0",
   "metadata": {},
   "outputs": [
    {
     "data": {
      "text/plain": [
       "-0.6419726148130378"
      ]
     },
     "execution_count": 6,
     "metadata": {},
     "output_type": "execute_result"
    }
   ],
   "source": [
    "0.9461776*0.23814774 + 0.36591125*-0.22937495 + 0.31471014*0.11312532 + 0.83666587*-0.9788537"
   ]
  },
  {
   "cell_type": "code",
   "execution_count": null,
   "id": "50174c79-9174-4233-8a8b-5ad954647662",
   "metadata": {},
   "outputs": [],
   "source": []
  }
 ],
 "metadata": {
  "kernelspec": {
   "display_name": "Python 3 (ipykernel)",
   "language": "python",
   "name": "python3"
  },
  "language_info": {
   "codemirror_mode": {
    "name": "ipython",
    "version": 3
   },
   "file_extension": ".py",
   "mimetype": "text/x-python",
   "name": "python",
   "nbconvert_exporter": "python",
   "pygments_lexer": "ipython3",
   "version": "3.9.7"
  }
 },
 "nbformat": 4,
 "nbformat_minor": 5
}
