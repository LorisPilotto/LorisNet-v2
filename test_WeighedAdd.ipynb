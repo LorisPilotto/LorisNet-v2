{
 "cells": [
  {
   "cell_type": "code",
   "execution_count": 1,
   "id": "e110cbcc-44b4-4517-93d4-9b54398fe8d2",
   "metadata": {},
   "outputs": [],
   "source": [
    "import tensorflow as tf\n",
    "from LorisNet import *"
   ]
  },
  {
   "cell_type": "code",
   "execution_count": 2,
   "id": "1fb2cb11-1ca1-40dd-a2d8-b356c4355506",
   "metadata": {},
   "outputs": [
    {
     "data": {
      "text/plain": [
       "<tf.Tensor: shape=(3, 4, 1), dtype=float32, numpy=\n",
       "array([[[0.44635618],\n",
       "        [0.13806379],\n",
       "        [0.78494084],\n",
       "        [0.03784037]],\n",
       "\n",
       "       [[0.13098514],\n",
       "        [0.77006435],\n",
       "        [0.3633058 ],\n",
       "        [0.7114589 ]],\n",
       "\n",
       "       [[0.5066618 ],\n",
       "        [0.5747522 ],\n",
       "        [0.15514469],\n",
       "        [0.11384344]]], dtype=float32)>"
      ]
     },
     "execution_count": 2,
     "metadata": {},
     "output_type": "execute_result"
    }
   ],
   "source": [
    "X = tf.random.uniform((3, 4, 1))\n",
    "X"
   ]
  },
  {
   "cell_type": "code",
   "execution_count": 3,
   "id": "21831b2d-c14d-4316-a8ee-f04359df519d",
   "metadata": {},
   "outputs": [
    {
     "data": {
      "text/plain": [
       "<tf.Tensor: shape=(3,), dtype=float32, numpy=array([ 0.04137606, -0.1986205 , -0.2702189 ], dtype=float32)>"
      ]
     },
     "execution_count": 3,
     "metadata": {},
     "output_type": "execute_result"
    }
   ],
   "source": [
    "l = WeightedAdd()\n",
    "\n",
    "l(X)"
   ]
  },
  {
   "cell_type": "code",
   "execution_count": 4,
   "id": "cd6588d5-4960-4468-bb34-6e57805d8f7a",
   "metadata": {},
   "outputs": [
    {
     "data": {
      "text/plain": [
       "<tf.Variable 'weighted_add/kernel:0' shape=(4,) dtype=float32, numpy=array([ 0.11397278, -0.6694254 ,  0.08733749,  0.37981278], dtype=float32)>"
      ]
     },
     "execution_count": 4,
     "metadata": {},
     "output_type": "execute_result"
    }
   ],
   "source": [
    "l.kernel"
   ]
  },
  {
   "cell_type": "code",
   "execution_count": null,
   "id": "2d4faede-6d48-4ed8-b49b-bc042ed4821e",
   "metadata": {},
   "outputs": [],
   "source": []
  }
 ],
 "metadata": {
  "kernelspec": {
   "display_name": "Python 3 (ipykernel)",
   "language": "python",
   "name": "python3"
  },
  "language_info": {
   "codemirror_mode": {
    "name": "ipython",
    "version": 3
   },
   "file_extension": ".py",
   "mimetype": "text/x-python",
   "name": "python",
   "nbconvert_exporter": "python",
   "pygments_lexer": "ipython3",
   "version": "3.9.7"
  }
 },
 "nbformat": 4,
 "nbformat_minor": 5
}
