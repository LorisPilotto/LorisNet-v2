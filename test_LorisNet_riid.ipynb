{
 "cells": [
  {
   "cell_type": "markdown",
   "id": "d07c46bc-2535-4632-82d0-1e253d74780e",
   "metadata": {},
   "source": [
    "[https://www.kaggle.com/riteshkrjha/riiid-quick-tabnet-vs-xgboost](https://www.kaggle.com/riteshkrjha/riiid-quick-tabnet-vs-xgboost)"
   ]
  },
  {
   "cell_type": "code",
   "execution_count": 1,
   "id": "f0960c1c-ee34-4b67-ab21-4e05116009ad",
   "metadata": {},
   "outputs": [],
   "source": [
    "import numpy as np\n",
    "import pandas as pd\n",
    "from sklearn.model_selection import train_test_split\n",
    "from sklearn.metrics import roc_auc_score, accuracy_score, f1_score, roc_curve, classification_report\n",
    "import tensorflow as tf\n",
    "\n",
    "from LorisNet import *"
   ]
  },
  {
   "cell_type": "code",
   "execution_count": 2,
   "id": "f9af4928-ffb9-404e-ad97-45d7707e1fa7",
   "metadata": {},
   "outputs": [],
   "source": [
    "train = pd.read_csv('./data/riid/train.csv',\n",
    "                   usecols=[1, 2, 3, 4, 5, 7, 8, 9],\n",
    "                   dtype={'timestamp': 'int64',\n",
    "                          'user_id': 'int32',\n",
    "                          'content_id': 'int16',\n",
    "                          'content_type_id': 'int8',\n",
    "                          'task_container_id': 'int16',\n",
    "                          'answered_correctly':'int8',\n",
    "                          'prior_question_elapsed_time': 'float32',\n",
    "                          'prior_question_had_explanation': 'boolean'}\n",
    "                   )"
   ]
  },
  {
   "cell_type": "code",
   "execution_count": 3,
   "id": "54b32826-c480-456f-be9d-111afb923c5c",
   "metadata": {},
   "outputs": [],
   "source": [
    "# Remove lectures and additional processing\n",
    "train = train[train.content_type_id == False]\n",
    "\n",
    "train = train.sort_values(['timestamp'],\n",
    "                          ascending=True)\n",
    "train.drop(['timestamp', 'content_type_id'],\n",
    "           axis=1,\n",
    "           inplace=True)"
   ]
  },
  {
   "cell_type": "code",
   "execution_count": 4,
   "id": "84e0c36a-0bb5-4c0c-8b86-755b0561999b",
   "metadata": {},
   "outputs": [],
   "source": [
    "# Read Questions and Lectures\n",
    "questions = pd.read_csv('./data/riid/questions.csv')\n",
    "lectures = pd.read_csv('./data/riid/lectures.csv')"
   ]
  },
  {
   "cell_type": "code",
   "execution_count": 5,
   "id": "16ed00dc-f329-43c7-afd8-63135d43ef8e",
   "metadata": {},
   "outputs": [],
   "source": [
    "# Merge train with Questions\n",
    "train = pd.merge(train,\n",
    "                 questions,\n",
    "                 left_on='content_id',\n",
    "                 right_on='question_id',\n",
    "                 how='left')"
   ]
  },
  {
   "cell_type": "code",
   "execution_count": 6,
   "id": "e6448755-ea1b-4236-84fc-0df821a5e4eb",
   "metadata": {},
   "outputs": [],
   "source": [
    "#Indicator for first question in a batch\n",
    "train['firstQindicator'] = np.where(train['prior_question_elapsed_time'].isnull(),\n",
    "                                    1,\n",
    "                                    0)\n",
    "train['prior_question_elapsed_time'] = np.where(train['prior_question_elapsed_time'].isnull(),\n",
    "                                                0,\n",
    "                                                train['prior_question_elapsed_time'])"
   ]
  },
  {
   "cell_type": "code",
   "execution_count": 7,
   "id": "2f2bb9b5-6b37-433d-901d-9063d3548e17",
   "metadata": {},
   "outputs": [
    {
     "data": {
      "text/html": [
       "<div>\n",
       "<style scoped>\n",
       "    .dataframe tbody tr th:only-of-type {\n",
       "        vertical-align: middle;\n",
       "    }\n",
       "\n",
       "    .dataframe tbody tr th {\n",
       "        vertical-align: top;\n",
       "    }\n",
       "\n",
       "    .dataframe thead th {\n",
       "        text-align: right;\n",
       "    }\n",
       "</style>\n",
       "<table border=\"1\" class=\"dataframe\">\n",
       "  <thead>\n",
       "    <tr style=\"text-align: right;\">\n",
       "      <th></th>\n",
       "      <th>user_id</th>\n",
       "      <th>content_id</th>\n",
       "      <th>task_container_id</th>\n",
       "      <th>answered_correctly</th>\n",
       "      <th>prior_question_elapsed_time</th>\n",
       "      <th>prior_question_had_explanation</th>\n",
       "      <th>question_id</th>\n",
       "      <th>bundle_id</th>\n",
       "      <th>correct_answer</th>\n",
       "      <th>part</th>\n",
       "      <th>tags</th>\n",
       "      <th>firstQindicator</th>\n",
       "    </tr>\n",
       "  </thead>\n",
       "  <tbody>\n",
       "    <tr>\n",
       "      <th>0</th>\n",
       "      <td>115</td>\n",
       "      <td>5692</td>\n",
       "      <td>1</td>\n",
       "      <td>1</td>\n",
       "      <td>0.0</td>\n",
       "      <td>&lt;NA&gt;</td>\n",
       "      <td>5692</td>\n",
       "      <td>5692</td>\n",
       "      <td>3</td>\n",
       "      <td>5</td>\n",
       "      <td>151</td>\n",
       "      <td>1</td>\n",
       "    </tr>\n",
       "    <tr>\n",
       "      <th>1</th>\n",
       "      <td>1805962620</td>\n",
       "      <td>5547</td>\n",
       "      <td>0</td>\n",
       "      <td>0</td>\n",
       "      <td>0.0</td>\n",
       "      <td>&lt;NA&gt;</td>\n",
       "      <td>5547</td>\n",
       "      <td>5547</td>\n",
       "      <td>0</td>\n",
       "      <td>5</td>\n",
       "      <td>8</td>\n",
       "      <td>1</td>\n",
       "    </tr>\n",
       "    <tr>\n",
       "      <th>2</th>\n",
       "      <td>2015251289</td>\n",
       "      <td>4024</td>\n",
       "      <td>0</td>\n",
       "      <td>1</td>\n",
       "      <td>0.0</td>\n",
       "      <td>&lt;NA&gt;</td>\n",
       "      <td>4024</td>\n",
       "      <td>4024</td>\n",
       "      <td>0</td>\n",
       "      <td>5</td>\n",
       "      <td>173</td>\n",
       "      <td>1</td>\n",
       "    </tr>\n",
       "    <tr>\n",
       "      <th>3</th>\n",
       "      <td>867941388</td>\n",
       "      <td>6659</td>\n",
       "      <td>0</td>\n",
       "      <td>1</td>\n",
       "      <td>0.0</td>\n",
       "      <td>&lt;NA&gt;</td>\n",
       "      <td>6659</td>\n",
       "      <td>6659</td>\n",
       "      <td>3</td>\n",
       "      <td>5</td>\n",
       "      <td>53</td>\n",
       "      <td>1</td>\n",
       "    </tr>\n",
       "    <tr>\n",
       "      <th>4</th>\n",
       "      <td>867946278</td>\n",
       "      <td>3977</td>\n",
       "      <td>0</td>\n",
       "      <td>1</td>\n",
       "      <td>0.0</td>\n",
       "      <td>&lt;NA&gt;</td>\n",
       "      <td>3977</td>\n",
       "      <td>3977</td>\n",
       "      <td>2</td>\n",
       "      <td>5</td>\n",
       "      <td>177</td>\n",
       "      <td>1</td>\n",
       "    </tr>\n",
       "  </tbody>\n",
       "</table>\n",
       "</div>"
      ],
      "text/plain": [
       "      user_id  content_id  task_container_id  answered_correctly  \\\n",
       "0         115        5692                  1                   1   \n",
       "1  1805962620        5547                  0                   0   \n",
       "2  2015251289        4024                  0                   1   \n",
       "3   867941388        6659                  0                   1   \n",
       "4   867946278        3977                  0                   1   \n",
       "\n",
       "   prior_question_elapsed_time  prior_question_had_explanation  question_id  \\\n",
       "0                          0.0                            <NA>         5692   \n",
       "1                          0.0                            <NA>         5547   \n",
       "2                          0.0                            <NA>         4024   \n",
       "3                          0.0                            <NA>         6659   \n",
       "4                          0.0                            <NA>         3977   \n",
       "\n",
       "   bundle_id  correct_answer  part tags  firstQindicator  \n",
       "0       5692               3     5  151                1  \n",
       "1       5547               0     5    8                1  \n",
       "2       4024               0     5  173                1  \n",
       "3       6659               3     5   53                1  \n",
       "4       3977               2     5  177                1  "
      ]
     },
     "execution_count": 7,
     "metadata": {},
     "output_type": "execute_result"
    }
   ],
   "source": [
    "train.head()"
   ]
  },
  {
   "cell_type": "code",
   "execution_count": 8,
   "id": "8e30405d-ddd8-403e-b0f5-f7787ec48120",
   "metadata": {},
   "outputs": [],
   "source": [
    "# Remove unused columns\n",
    "del train['question_id']\n",
    "del train['bundle_id']\n",
    "del train['correct_answer']\n",
    "del train['tags']"
   ]
  },
  {
   "cell_type": "code",
   "execution_count": 9,
   "id": "da6a803e-944d-4283-8ae4-97a27054699d",
   "metadata": {},
   "outputs": [
    {
     "data": {
      "text/plain": [
       "0"
      ]
     },
     "execution_count": 9,
     "metadata": {},
     "output_type": "execute_result"
    }
   ],
   "source": [
    "import gc\n",
    "gc.collect()"
   ]
  },
  {
   "cell_type": "code",
   "execution_count": 10,
   "id": "b6f3a1a7-72f7-4c11-ba21-46e75ec465d8",
   "metadata": {},
   "outputs": [],
   "source": [
    "train.prior_question_had_explanation = train.prior_question_had_explanation.astype(object)\n",
    "train.prior_question_had_explanation = np.where(train.prior_question_had_explanation == 'True',\n",
    "                                                1,\n",
    "                                                0)"
   ]
  },
  {
   "cell_type": "code",
   "execution_count": 11,
   "id": "bb495f4c-cbee-4c14-83fe-65dd8ba867c4",
   "metadata": {},
   "outputs": [],
   "source": [
    "# Sample 5M records\n",
    "train = train.sample(n=5000000)"
   ]
  },
  {
   "cell_type": "code",
   "execution_count": 129,
   "id": "57588372-be78-4778-bfe4-7c8915bb460c",
   "metadata": {},
   "outputs": [],
   "source": [
    "# train test split\n",
    "xtrain, xvalid, ytrain, yvalid = train_test_split(train.drop(['answered_correctly'], axis=1), \n",
    "                                                  train['answered_correctly'],\n",
    "                                                  random_state=42, \n",
    "                                                  test_size=0.2, \n",
    "                                                  shuffle=True)"
   ]
  },
  {
   "cell_type": "code",
   "execution_count": 130,
   "id": "ad5cc7f5-dff8-4019-8d66-9744d771986b",
   "metadata": {},
   "outputs": [],
   "source": [
    "data = tf.data.Dataset.from_tensor_slices((xtrain.values,\n",
    "                                           ytrain.values)).batch(100000)"
   ]
  },
  {
   "cell_type": "code",
   "execution_count": 131,
   "id": "b2e4758b-938f-4a9a-9baa-28dafcf939df",
   "metadata": {},
   "outputs": [
    {
     "name": "stdout",
     "output_type": "stream",
     "text": [
      "40/40 [==============================] - 42s 877ms/step - loss: 0.6562 - accuracy: 0.6523\n"
     ]
    }
   ],
   "source": [
    "# Train LorisNet\n",
    "model = tf.keras.Sequential()\n",
    "\n",
    "reg1 = .1\n",
    "nbr_masks = 5\n",
    "steps = [[StepNoFeedback(AllOnesMaskedInputNoFeedback(nbr_masks),\n",
    "                         LinearSeparators(bias_regularizer=tf.keras.regularizers.L2(reg1)),\n",
    "                         PredictionNeurons(units=1))]]\n",
    "for i in range(10):\n",
    "    steps.append([StepWithFeedback(AllOnesMaskedInputWithFeedback(nbr_masks),\n",
    "                                   LinearSeparators(bias_regularizer=tf.keras.regularizers.L2(reg1)),\n",
    "                                   PredictionNeurons(units=1))])\n",
    "steps = [item for sublist in steps for item in sublist]\n",
    "\n",
    "model.add(LorisNetLayer(steps=steps,\n",
    "                        weighted_addition=NormalizedWeightedAdd(),\n",
    "                        activation='sigmoid'\n",
    "                       ))\n",
    "\n",
    "model.compile(loss=tf.keras.losses.binary_crossentropy,\n",
    "              optimizer=tf.keras.optimizers.Adam(learning_rate=.05),\n",
    "              metrics=['accuracy']\n",
    "             )\n",
    "\n",
    "history = model.fit(data,\n",
    "                    epochs=1,\n",
    "                    verbose=1)"
   ]
  },
  {
   "cell_type": "code",
   "execution_count": 132,
   "id": "4e1ad527-6058-4050-9993-9cb32d349625",
   "metadata": {},
   "outputs": [
    {
     "name": "stdout",
     "output_type": "stream",
     "text": [
      "40/40 [==============================] - 47s 1s/step - loss: 0.6347 - accuracy: 0.6576\n"
     ]
    }
   ],
   "source": [
    "model.compile(loss=tf.keras.losses.binary_crossentropy,\n",
    "              optimizer=tf.keras.optimizers.Adam(learning_rate=.01),\n",
    "              metrics=['accuracy']\n",
    "             )\n",
    "history = model.fit(data,\n",
    "                    epochs=1,\n",
    "                    verbose=1)"
   ]
  },
  {
   "cell_type": "code",
   "execution_count": 133,
   "id": "fbbe2c2d-5e59-4288-a7e9-f91e1934bda7",
   "metadata": {},
   "outputs": [
    {
     "name": "stdout",
     "output_type": "stream",
     "text": [
      "1/1 [==============================] - 1s 1s/step\n"
     ]
    },
    {
     "data": {
      "text/plain": [
       "array([[0.7035527 ],\n",
       "       [0.7121538 ],\n",
       "       [0.6951014 ],\n",
       "       [0.72549   ],\n",
       "       [0.5595709 ],\n",
       "       [0.6556799 ],\n",
       "       [0.66519415],\n",
       "       [0.73769385],\n",
       "       [0.54684764],\n",
       "       [0.73502547],\n",
       "       [0.6346817 ],\n",
       "       [0.7519738 ],\n",
       "       [0.6552086 ],\n",
       "       [0.6318636 ],\n",
       "       [0.59619856],\n",
       "       [0.6771714 ],\n",
       "       [0.68270916],\n",
       "       [0.6549076 ],\n",
       "       [0.6854434 ],\n",
       "       [0.66511256]], dtype=float32)"
      ]
     },
     "execution_count": 133,
     "metadata": {},
     "output_type": "execute_result"
    }
   ],
   "source": [
    "model.predict(xtrain.values[:20])"
   ]
  },
  {
   "cell_type": "code",
   "execution_count": 134,
   "id": "d834121e-a7c2-4e57-a6e0-ebd58116a664",
   "metadata": {},
   "outputs": [
    {
     "data": {
      "text/plain": [
       "13595083    1\n",
       "45569082    1\n",
       "37440363    1\n",
       "93119698    1\n",
       "81433823    1\n",
       "77163944    0\n",
       "71713307    1\n",
       "46984142    1\n",
       "1865578     0\n",
       "98234157    0\n",
       "73687529    1\n",
       "96957632    1\n",
       "73410585    0\n",
       "58515061    0\n",
       "10093544    1\n",
       "42222471    0\n",
       "63330353    0\n",
       "8832242     1\n",
       "46180318    1\n",
       "28323868    1\n",
       "Name: answered_correctly, dtype: int8"
      ]
     },
     "execution_count": 134,
     "metadata": {},
     "output_type": "execute_result"
    }
   ],
   "source": [
    "ytrain[:20]"
   ]
  },
  {
   "cell_type": "code",
   "execution_count": 135,
   "id": "cefe903c-f8ac-4260-9f2a-032088877327",
   "metadata": {},
   "outputs": [
    {
     "name": "stdout",
     "output_type": "stream",
     "text": [
      "10/10 [==============================] - 5s 381ms/step\n",
      "\t\t\tCLASSIFICATIION METRICS: LBBM\n",
      "\n"
     ]
    },
    {
     "name": "stderr",
     "output_type": "stream",
     "text": [
      "C:\\Users\\loris\\.virtualenvs\\LorisNet-x5Ovuv2r\\lib\\site-packages\\sklearn\\metrics\\_classification.py:1327: UndefinedMetricWarning: Precision and F-score are ill-defined and being set to 0.0 in labels with no predicted samples. Use `zero_division` parameter to control this behavior.\n",
      "  _warn_prf(average, modifier, msg_start, len(result))\n",
      "C:\\Users\\loris\\.virtualenvs\\LorisNet-x5Ovuv2r\\lib\\site-packages\\sklearn\\metrics\\_classification.py:1327: UndefinedMetricWarning: Precision and F-score are ill-defined and being set to 0.0 in labels with no predicted samples. Use `zero_division` parameter to control this behavior.\n",
      "  _warn_prf(average, modifier, msg_start, len(result))\n",
      "C:\\Users\\loris\\.virtualenvs\\LorisNet-x5Ovuv2r\\lib\\site-packages\\sklearn\\metrics\\_classification.py:1327: UndefinedMetricWarning: Precision and F-score are ill-defined and being set to 0.0 in labels with no predicted samples. Use `zero_division` parameter to control this behavior.\n",
      "  _warn_prf(average, modifier, msg_start, len(result))\n"
     ]
    },
    {
     "name": "stdout",
     "output_type": "stream",
     "text": [
      "              precision    recall  f1-score   support\n",
      "\n",
      "           0       0.00      0.00      0.00    342223\n",
      "           1       0.66      1.00      0.79    657777\n",
      "\n",
      "    accuracy                           0.66   1000000\n",
      "   macro avg       0.33      0.50      0.40   1000000\n",
      "weighted avg       0.43      0.66      0.52   1000000\n",
      "\n",
      "ROC value is: 0.5\n"
     ]
    }
   ],
   "source": [
    "p = model.predict(tf.data.Dataset.from_tensor_slices(xvalid.values).batch(100000)).flatten().round().astype(int)\n",
    "print('\\t\\t\\tCLASSIFICATIION METRICS: LBBM\\n')\n",
    "print(classification_report(yvalid, p))\n",
    "score = roc_auc_score(yvalid, p)\n",
    "print('ROC value is: {}'.format(score))"
   ]
  },
  {
   "cell_type": "code",
   "execution_count": 136,
   "id": "e4739c35-e9cb-4a73-b9f4-e29f0506eaa2",
   "metadata": {},
   "outputs": [
    {
     "name": "stdout",
     "output_type": "stream",
     "text": [
      "1/1 [==============================] - 0s 23ms/step\n"
     ]
    },
    {
     "data": {
      "text/plain": [
       "array([[0.62341654],\n",
       "       [0.69408244],\n",
       "       [0.6538562 ],\n",
       "       [0.6602304 ],\n",
       "       [0.7067075 ],\n",
       "       [0.67072743],\n",
       "       [0.6897935 ],\n",
       "       [0.65889984],\n",
       "       [0.6632564 ],\n",
       "       [0.6940458 ],\n",
       "       [0.64580053],\n",
       "       [0.7070672 ],\n",
       "       [0.5460276 ],\n",
       "       [0.74241453],\n",
       "       [0.7094348 ],\n",
       "       [0.67945886],\n",
       "       [0.69767433],\n",
       "       [0.6136378 ],\n",
       "       [0.62348825],\n",
       "       [0.7499299 ]], dtype=float32)"
      ]
     },
     "execution_count": 136,
     "metadata": {},
     "output_type": "execute_result"
    }
   ],
   "source": [
    "model.predict(xvalid.values[:20])"
   ]
  },
  {
   "cell_type": "code",
   "execution_count": 137,
   "id": "d673b4a4-2eb7-421f-9a54-f968ff6e49f6",
   "metadata": {},
   "outputs": [
    {
     "data": {
      "text/plain": [
       "55946176    1\n",
       "50927278    1\n",
       "47264040    1\n",
       "17765604    0\n",
       "82342456    1\n",
       "24232254    1\n",
       "36885350    0\n",
       "64858554    1\n",
       "33751180    1\n",
       "57737698    0\n",
       "91152908    1\n",
       "55760771    1\n",
       "1257252     1\n",
       "43416822    0\n",
       "41706295    1\n",
       "37473961    1\n",
       "35514488    1\n",
       "87989056    1\n",
       "59645676    0\n",
       "87095933    1\n",
       "Name: answered_correctly, dtype: int8"
      ]
     },
     "execution_count": 137,
     "metadata": {},
     "output_type": "execute_result"
    }
   ],
   "source": [
    "yvalid[:20]"
   ]
  },
  {
   "cell_type": "code",
   "execution_count": null,
   "id": "ccda8aee-bfb1-4e8f-9665-2366db008540",
   "metadata": {},
   "outputs": [],
   "source": []
  }
 ],
 "metadata": {
  "kernelspec": {
   "display_name": "Python 3 (ipykernel)",
   "language": "python",
   "name": "python3"
  },
  "language_info": {
   "codemirror_mode": {
    "name": "ipython",
    "version": 3
   },
   "file_extension": ".py",
   "mimetype": "text/x-python",
   "name": "python",
   "nbconvert_exporter": "python",
   "pygments_lexer": "ipython3",
   "version": "3.9.7"
  }
 },
 "nbformat": 4,
 "nbformat_minor": 5
}
