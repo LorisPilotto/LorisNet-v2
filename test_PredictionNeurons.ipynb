{
 "cells": [
  {
   "cell_type": "code",
   "execution_count": 1,
   "id": "1d85e4ed-9579-4b3b-ac0b-908d40b3a1c6",
   "metadata": {},
   "outputs": [],
   "source": [
    "import tensorflow as tf\n",
    "from LorisNet import *"
   ]
  },
  {
   "cell_type": "code",
   "execution_count": 2,
   "id": "d8b23163-b158-4f79-a5e3-726d3c866fbc",
   "metadata": {},
   "outputs": [
    {
     "data": {
      "text/plain": [
       "<tf.Tensor: shape=(3, 2, 1), dtype=float32, numpy=\n",
       "array([[[0.],\n",
       "        [0.]],\n",
       "\n",
       "       [[1.],\n",
       "        [0.]],\n",
       "\n",
       "       [[1.],\n",
       "        [1.]]], dtype=float32)>"
      ]
     },
     "execution_count": 2,
     "metadata": {},
     "output_type": "execute_result"
    }
   ],
   "source": [
    "X = tf.cast(tf.random.uniform((3, 2, 1)) <= .5,\n",
    "            dtype=tf.float32)\n",
    "\n",
    "X"
   ]
  },
  {
   "cell_type": "code",
   "execution_count": 3,
   "id": "c65e3411-6ed5-4d91-9add-3be07c3931cc",
   "metadata": {},
   "outputs": [
    {
     "data": {
      "text/plain": [
       "<tf.Tensor: shape=(3, 2, 1), dtype=float32, numpy=\n",
       "array([[[ 0.        ],\n",
       "        [ 0.        ]],\n",
       "\n",
       "       [[ 0.608824  ],\n",
       "        [ 0.        ]],\n",
       "\n",
       "       [[ 0.608824  ],\n",
       "        [-0.13419974]]], dtype=float32)>"
      ]
     },
     "execution_count": 3,
     "metadata": {},
     "output_type": "execute_result"
    }
   ],
   "source": [
    "l = PredictionNeurons(units=1)\n",
    "\n",
    "l(X)"
   ]
  },
  {
   "cell_type": "code",
   "execution_count": 4,
   "id": "1c52acc5-8215-4957-a4ee-1fa61587df52",
   "metadata": {},
   "outputs": [
    {
     "data": {
      "text/plain": [
       "<tf.Variable 'prediction_neurons/kernel:0' shape=(2, 1, 1) dtype=float32, numpy=\n",
       "array([[[ 0.608824  ]],\n",
       "\n",
       "       [[-0.13419974]]], dtype=float32)>"
      ]
     },
     "execution_count": 4,
     "metadata": {},
     "output_type": "execute_result"
    }
   ],
   "source": [
    "l.kernel"
   ]
  },
  {
   "cell_type": "code",
   "execution_count": 5,
   "id": "3ef164d3-3324-4a03-9e28-438eb6f7bc81",
   "metadata": {},
   "outputs": [
    {
     "data": {
      "text/plain": [
       "<tf.Variable 'prediction_neurons/bias:0' shape=(2, 1) dtype=float32, numpy=\n",
       "array([[0.],\n",
       "       [0.]], dtype=float32)>"
      ]
     },
     "execution_count": 5,
     "metadata": {},
     "output_type": "execute_result"
    }
   ],
   "source": [
    "l.bias"
   ]
  },
  {
   "cell_type": "code",
   "execution_count": 6,
   "id": "7b967a48-7231-4f50-af67-a0691750989d",
   "metadata": {},
   "outputs": [
    {
     "data": {
      "text/plain": [
       "<tf.Tensor: shape=(3, 2, 2), dtype=float32, numpy=\n",
       "array([[[0., 0.],\n",
       "        [0., 0.]],\n",
       "\n",
       "       [[1., 1.],\n",
       "        [0., 1.]],\n",
       "\n",
       "       [[0., 1.],\n",
       "        [0., 0.]]], dtype=float32)>"
      ]
     },
     "execution_count": 6,
     "metadata": {},
     "output_type": "execute_result"
    }
   ],
   "source": [
    "X = tf.cast(tf.random.uniform((3, 2, 2)) <= .5,\n",
    "            dtype=tf.float32)\n",
    "\n",
    "X"
   ]
  },
  {
   "cell_type": "code",
   "execution_count": 7,
   "id": "63c7d837-9265-4bd2-af8a-5e391399524a",
   "metadata": {},
   "outputs": [
    {
     "data": {
      "text/plain": [
       "<tf.Tensor: shape=(3, 2, 1), dtype=float32, numpy=\n",
       "array([[[ 0.        ],\n",
       "        [ 0.        ]],\n",
       "\n",
       "       [[-0.03124356],\n",
       "        [-0.55174875]],\n",
       "\n",
       "       [[ 0.3252859 ],\n",
       "        [ 0.        ]]], dtype=float32)>"
      ]
     },
     "execution_count": 7,
     "metadata": {},
     "output_type": "execute_result"
    }
   ],
   "source": [
    "l = PredictionNeurons(units=1)\n",
    "\n",
    "l(X)"
   ]
  },
  {
   "cell_type": "code",
   "execution_count": 8,
   "id": "4187bad7-636f-49bf-84c0-0b77ad7eba8c",
   "metadata": {},
   "outputs": [
    {
     "data": {
      "text/plain": [
       "<tf.Variable 'prediction_neurons_1/kernel:0' shape=(2, 1, 2) dtype=float32, numpy=\n",
       "array([[[-0.35652947,  0.3252859 ]],\n",
       "\n",
       "       [[-0.67697   , -0.55174875]]], dtype=float32)>"
      ]
     },
     "execution_count": 8,
     "metadata": {},
     "output_type": "execute_result"
    }
   ],
   "source": [
    "l.kernel"
   ]
  },
  {
   "cell_type": "code",
   "execution_count": 9,
   "id": "a4cbcc56-717b-4e86-a9cd-78eda9675fc1",
   "metadata": {},
   "outputs": [
    {
     "data": {
      "text/plain": [
       "<tf.Tensor: shape=(3, 2, 2), dtype=float32, numpy=\n",
       "array([[[ 0.        ,  0.        ],\n",
       "        [ 0.        ,  0.        ]],\n",
       "\n",
       "       [[ 0.68908244,  0.7368564 ],\n",
       "        [ 0.56760854, -0.6608713 ]],\n",
       "\n",
       "       [[ 0.6192314 , -0.09320784],\n",
       "        [ 0.        ,  0.        ]]], dtype=float32)>"
      ]
     },
     "execution_count": 9,
     "metadata": {},
     "output_type": "execute_result"
    }
   ],
   "source": [
    "l = PredictionNeurons(units=2)\n",
    "\n",
    "l(X)"
   ]
  },
  {
   "cell_type": "code",
   "execution_count": 10,
   "id": "5998bcaa-3628-4172-bd94-c1267d865516",
   "metadata": {},
   "outputs": [
    {
     "data": {
      "text/plain": [
       "<tf.Variable 'prediction_neurons_2/kernel:0' shape=(2, 2, 2) dtype=float32, numpy=\n",
       "array([[[ 0.06985104,  0.6192314 ],\n",
       "        [ 0.83006424, -0.09320784]],\n",
       "\n",
       "       [[-0.02365828,  0.56760854],\n",
       "        [-0.34869534, -0.6608713 ]]], dtype=float32)>"
      ]
     },
     "execution_count": 10,
     "metadata": {},
     "output_type": "execute_result"
    }
   ],
   "source": [
    "l.kernel"
   ]
  },
  {
   "cell_type": "code",
   "execution_count": null,
   "id": "fd8de188-30c7-4997-b9e0-de7af4045731",
   "metadata": {},
   "outputs": [],
   "source": []
  }
 ],
 "metadata": {
  "kernelspec": {
   "display_name": "Python 3 (ipykernel)",
   "language": "python",
   "name": "python3"
  },
  "language_info": {
   "codemirror_mode": {
    "name": "ipython",
    "version": 3
   },
   "file_extension": ".py",
   "mimetype": "text/x-python",
   "name": "python",
   "nbconvert_exporter": "python",
   "pygments_lexer": "ipython3",
   "version": "3.9.7"
  }
 },
 "nbformat": 4,
 "nbformat_minor": 5
}
