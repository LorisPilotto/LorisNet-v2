{
 "cells": [
  {
   "cell_type": "code",
   "execution_count": 1,
   "id": "1d85e4ed-9579-4b3b-ac0b-908d40b3a1c6",
   "metadata": {},
   "outputs": [],
   "source": [
    "import tensorflow as tf\n",
    "from LorisNet import *"
   ]
  },
  {
   "cell_type": "code",
   "execution_count": 2,
   "id": "d8b23163-b158-4f79-a5e3-726d3c866fbc",
   "metadata": {},
   "outputs": [
    {
     "data": {
      "text/plain": [
       "<tf.Tensor: shape=(3, 2, 2), dtype=float32, numpy=\n",
       "array([[[1., 0.],\n",
       "        [1., 1.]],\n",
       "\n",
       "       [[1., 1.],\n",
       "        [1., 0.]],\n",
       "\n",
       "       [[0., 0.],\n",
       "        [0., 1.]]], dtype=float32)>"
      ]
     },
     "execution_count": 2,
     "metadata": {},
     "output_type": "execute_result"
    }
   ],
   "source": [
    "X = tf.cast(tf.random.uniform((3, 2, 2)) <= .5,\n",
    "            dtype=tf.float32)\n",
    "\n",
    "X"
   ]
  },
  {
   "cell_type": "code",
   "execution_count": 3,
   "id": "c65e3411-6ed5-4d91-9add-3be07c3931cc",
   "metadata": {},
   "outputs": [
    {
     "data": {
      "text/plain": [
       "<tf.Tensor: shape=(3, 2, 1), dtype=float32, numpy=\n",
       "array([[[-0.70212334],\n",
       "        [ 0.9304714 ]],\n",
       "\n",
       "       [[-0.20372277],\n",
       "        [-0.15751612]],\n",
       "\n",
       "       [[ 0.        ],\n",
       "        [ 1.0879875 ]]], dtype=float32)>"
      ]
     },
     "execution_count": 3,
     "metadata": {},
     "output_type": "execute_result"
    }
   ],
   "source": [
    "l = PredictionNeurons()\n",
    "\n",
    "l(X)"
   ]
  },
  {
   "cell_type": "code",
   "execution_count": 4,
   "id": "1c52acc5-8215-4957-a4ee-1fa61587df52",
   "metadata": {},
   "outputs": [
    {
     "data": {
      "text/plain": [
       "<tf.Variable 'prediction_neurons/prediction_kernel:0' shape=(2, 2) dtype=float32, numpy=\n",
       "array([[-0.70212334,  0.49840057],\n",
       "       [-0.15751612,  1.0879875 ]], dtype=float32)>"
      ]
     },
     "execution_count": 4,
     "metadata": {},
     "output_type": "execute_result"
    }
   ],
   "source": [
    "l.kernel"
   ]
  },
  {
   "cell_type": "code",
   "execution_count": null,
   "id": "329e9925-5ff4-48a9-9069-dc1241278557",
   "metadata": {},
   "outputs": [],
   "source": []
  }
 ],
 "metadata": {
  "kernelspec": {
   "display_name": "Python 3 (ipykernel)",
   "language": "python",
   "name": "python3"
  },
  "language_info": {
   "codemirror_mode": {
    "name": "ipython",
    "version": 3
   },
   "file_extension": ".py",
   "mimetype": "text/x-python",
   "name": "python",
   "nbconvert_exporter": "python",
   "pygments_lexer": "ipython3",
   "version": "3.9.7"
  }
 },
 "nbformat": 4,
 "nbformat_minor": 5
}
