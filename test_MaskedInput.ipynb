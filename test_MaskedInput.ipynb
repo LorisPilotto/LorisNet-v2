{
 "cells": [
  {
   "cell_type": "code",
   "execution_count": 1,
   "id": "1b97c54f-434b-439c-965c-d874dbd4cd79",
   "metadata": {},
   "outputs": [],
   "source": [
    "from LorisNet import *\n",
    "import tensorflow as tf"
   ]
  },
  {
   "cell_type": "code",
   "execution_count": 2,
   "id": "fe217d19-d9b8-4416-8d76-0e764618f624",
   "metadata": {},
   "outputs": [
    {
     "data": {
      "text/plain": [
       "<tf.Tensor: shape=(3, 2), dtype=float32, numpy=\n",
       "array([[0.01704586, 0.91344154],\n",
       "       [0.48964906, 0.63008714],\n",
       "       [0.48784328, 0.23413813]], dtype=float32)>"
      ]
     },
     "execution_count": 2,
     "metadata": {},
     "output_type": "execute_result"
    }
   ],
   "source": [
    "X = tf.random.uniform((3, 2))\n",
    "\n",
    "X"
   ]
  },
  {
   "cell_type": "code",
   "execution_count": 3,
   "id": "00012be4-bfa0-45ce-ae76-25031751d5ff",
   "metadata": {},
   "outputs": [
    {
     "data": {
      "text/plain": [
       "<tf.Tensor: shape=(4, 5, 2), dtype=float32, numpy=\n",
       "array([[[6.3600814e-01, 2.1812630e-01],\n",
       "        [8.3894789e-01, 6.2532008e-01],\n",
       "        [6.5442443e-02, 2.0542622e-01],\n",
       "        [1.5109539e-02, 7.8840303e-01],\n",
       "        [7.7596068e-01, 1.6536677e-01]],\n",
       "\n",
       "       [[3.8995528e-01, 6.7402124e-03],\n",
       "        [1.3308954e-01, 5.4337513e-01],\n",
       "        [8.3219957e-01, 5.9641182e-01],\n",
       "        [2.0390284e-01, 7.5953579e-01],\n",
       "        [2.8955686e-01, 7.5956869e-01]],\n",
       "\n",
       "       [[4.9723506e-02, 6.8365288e-01],\n",
       "        [4.1660345e-01, 8.7833405e-04],\n",
       "        [5.8449256e-01, 8.0304062e-01],\n",
       "        [7.0075321e-01, 4.7432566e-01],\n",
       "        [9.8321319e-01, 1.4646876e-01]],\n",
       "\n",
       "       [[7.6885760e-01, 7.8350830e-01],\n",
       "        [3.1156576e-01, 7.4745452e-01],\n",
       "        [4.8423803e-01, 7.4649346e-01],\n",
       "        [7.1888494e-01, 9.0110683e-01],\n",
       "        [4.2227399e-01, 3.8295436e-01]]], dtype=float32)>"
      ]
     },
     "execution_count": 3,
     "metadata": {},
     "output_type": "execute_result"
    }
   ],
   "source": [
    "prior_masks = tf.random.uniform((4, 5, 2))  # nbr masks, nbr prior masks, input dim\n",
    "\n",
    "prior_masks"
   ]
  },
  {
   "cell_type": "code",
   "execution_count": 4,
   "id": "2e67883d-e78d-4fe8-9df2-654590cf65ab",
   "metadata": {},
   "outputs": [
    {
     "data": {
      "text/plain": [
       "(<tf.Tensor: shape=(3, 4, 2), dtype=float32, numpy=\n",
       " array([[[0.00892057, 0.28317893],\n",
       "         [0.01197616, 0.61978644],\n",
       "         [0.00494574, 0.6202352 ],\n",
       "         [0.00730111, 0.3020134 ]],\n",
       " \n",
       "        [[0.25624692, 0.19533533],\n",
       "         [0.34402016, 0.42752543],\n",
       "         [0.14206849, 0.42783496],\n",
       "         [0.2097272 , 0.20832723]],\n",
       " \n",
       "        [[0.2553019 , 0.07258591],\n",
       "         [0.34275144, 0.15886693],\n",
       "         [0.14154455, 0.15898195],\n",
       "         [0.20895374, 0.07741366]]], dtype=float32)>,\n",
       " <tf.Tensor: shape=(4, 2), dtype=float32, numpy=\n",
       " array([[0.5233277 , 0.3100132 ],\n",
       "        [0.70258516, 0.67851794],\n",
       "        [0.2901435 , 0.6790092 ],\n",
       "        [0.42832145, 0.33063242]], dtype=float32)>)"
      ]
     },
     "execution_count": 4,
     "metadata": {},
     "output_type": "execute_result"
    }
   ],
   "source": [
    "SigmoidMaskedInputNoFeedback(4)(X)"
   ]
  },
  {
   "cell_type": "code",
   "execution_count": 5,
   "id": "c705f199-929d-44b0-95ac-ddf38a997f5a",
   "metadata": {},
   "outputs": [
    {
     "data": {
      "text/plain": [
       "(<tf.Tensor: shape=(3, 4, 2), dtype=float32, numpy=\n",
       " array([[[0.01127826, 0.5859554 ],\n",
       "         [0.00531972, 0.29577842],\n",
       "         [0.00505335, 0.6543356 ],\n",
       "         [0.00736207, 0.29011247]],\n",
       " \n",
       "        [[0.32397264, 0.4041889 ],\n",
       "         [0.1528112 , 0.20402639],\n",
       "         [0.14515951, 0.45135728],\n",
       "         [0.21147832, 0.20011805]],\n",
       " \n",
       "        [[0.32277787, 0.15019515],\n",
       "         [0.15224764, 0.07581548],\n",
       "         [0.14462417, 0.16772275],\n",
       "         [0.2106984 , 0.07436315]]], dtype=float32)>,\n",
       " <tf.Tensor: shape=(4, 2), dtype=float32, numpy=\n",
       " array([[0.66164255, 0.641481  ],\n",
       "        [0.3120831 , 0.3238066 ],\n",
       "        [0.29645622, 0.716341  ],\n",
       "        [0.43189773, 0.31760377]], dtype=float32)>)"
      ]
     },
     "execution_count": 5,
     "metadata": {},
     "output_type": "execute_result"
    }
   ],
   "source": [
    "SigmoidMaskedInputWithFeedback(4)([X, prior_masks])"
   ]
  },
  {
   "cell_type": "code",
   "execution_count": 6,
   "id": "b28d63ab-b019-4010-91d9-4381318e31dd",
   "metadata": {},
   "outputs": [
    {
     "data": {
      "text/plain": [
       "(<tf.Tensor: shape=(3, 4, 2), dtype=float32, numpy=\n",
       " array([[[0.00395784, 0.70135146],\n",
       "         [0.00713582, 0.53105235],\n",
       "         [0.00607337, 0.58798623],\n",
       "         [0.01213505, 0.26315662]],\n",
       " \n",
       "        [[0.1136906 , 0.48378852],\n",
       "         [0.20497921, 0.3663171 ],\n",
       "         [0.17445987, 0.4055898 ],\n",
       "         [0.34858432, 0.18152405]],\n",
       " \n",
       "        [[0.11327132, 0.17977409],\n",
       "         [0.20422328, 0.13612212],\n",
       "         [0.17381647, 0.15071572],\n",
       "         [0.34729877, 0.06745369]]], dtype=float32)>,\n",
       " <tf.Tensor: shape=(4, 2), dtype=float32, numpy=\n",
       " array([[0.23218793, 0.7678121 ],\n",
       "        [0.41862476, 0.5813753 ],\n",
       "        [0.35629573, 0.6437043 ],\n",
       "        [0.71190643, 0.28809357]], dtype=float32)>)"
      ]
     },
     "execution_count": 6,
     "metadata": {},
     "output_type": "execute_result"
    }
   ],
   "source": [
    "SoftmaxMaskedInputNoFeedback(4)(X)"
   ]
  },
  {
   "cell_type": "code",
   "execution_count": 7,
   "id": "442d7a89-1e4d-47d6-9d05-731ea35cb3ac",
   "metadata": {},
   "outputs": [
    {
     "data": {
      "text/plain": [
       "(<tf.Tensor: shape=(3, 4, 2), dtype=float32, numpy=\n",
       " array([[[0.00823549, 0.4721236 ],\n",
       "         [0.00317958, 0.7430563 ],\n",
       "         [0.01038453, 0.35696238],\n",
       "         [0.01223896, 0.25758842]],\n",
       " \n",
       "        [[0.2365679 , 0.32566833],\n",
       "         [0.09133474, 0.5125563 ],\n",
       "         [0.29829988, 0.24623077],\n",
       "         [0.35156915, 0.17768313]],\n",
       " \n",
       "        [[0.23569547, 0.1210172 ],\n",
       "         [0.0909979 , 0.1904641 ],\n",
       "         [0.29719976, 0.09149847],\n",
       "         [0.3502726 , 0.06602642]]], dtype=float32)>,\n",
       " <tf.Tensor: shape=(4, 2), dtype=float32, numpy=\n",
       " array([[0.48313767, 0.5168624 ],\n",
       "        [0.18653102, 0.81346893],\n",
       "        [0.60921156, 0.39078844],\n",
       "        [0.7180023 , 0.2819977 ]], dtype=float32)>)"
      ]
     },
     "execution_count": 7,
     "metadata": {},
     "output_type": "execute_result"
    }
   ],
   "source": [
    "SoftmaxMaskedInputWithFeedback(4)([X, prior_masks])"
   ]
  },
  {
   "cell_type": "code",
   "execution_count": 8,
   "id": "1ce1800d-6834-4bab-917a-dcddec174e31",
   "metadata": {},
   "outputs": [
    {
     "data": {
      "text/plain": [
       "(<tf.Tensor: shape=(3, 4, 2), dtype=float32, numpy=\n",
       " array([[[0.        , 0.        ],\n",
       "         [0.        , 0.91344154],\n",
       "         [0.        , 0.        ],\n",
       "         [0.01704586, 0.        ]],\n",
       " \n",
       "        [[0.        , 0.        ],\n",
       "         [0.        , 0.63008714],\n",
       "         [0.        , 0.        ],\n",
       "         [0.48964906, 0.        ]],\n",
       " \n",
       "        [[0.        , 0.        ],\n",
       "         [0.        , 0.23413813],\n",
       "         [0.        , 0.        ],\n",
       "         [0.48784328, 0.        ]]], dtype=float32)>,\n",
       " <tf.Tensor: shape=(4, 2), dtype=float32, numpy=\n",
       " array([[0., 0.],\n",
       "        [0., 1.],\n",
       "        [0., 0.],\n",
       "        [1., 0.]], dtype=float32)>)"
      ]
     },
     "execution_count": 8,
     "metadata": {},
     "output_type": "execute_result"
    }
   ],
   "source": [
    "FracOnesMaskedInputNoFeedback(4, .5)(X)"
   ]
  },
  {
   "cell_type": "code",
   "execution_count": 9,
   "id": "dc1a944d-7fe4-4f86-91a3-881e53f15e47",
   "metadata": {},
   "outputs": [
    {
     "data": {
      "text/plain": [
       "(<tf.Tensor: shape=(3, 4, 2), dtype=float32, numpy=\n",
       " array([[[0.01704586, 0.91344154],\n",
       "         [0.01704586, 0.91344154],\n",
       "         [0.01704586, 0.91344154],\n",
       "         [0.01704586, 0.91344154]],\n",
       " \n",
       "        [[0.48964906, 0.63008714],\n",
       "         [0.48964906, 0.63008714],\n",
       "         [0.48964906, 0.63008714],\n",
       "         [0.48964906, 0.63008714]],\n",
       " \n",
       "        [[0.48784328, 0.23413813],\n",
       "         [0.48784328, 0.23413813],\n",
       "         [0.48784328, 0.23413813],\n",
       "         [0.48784328, 0.23413813]]], dtype=float32)>,\n",
       " <tf.Tensor: shape=(4, 2), dtype=float32, numpy=\n",
       " array([[1., 1.],\n",
       "        [1., 1.],\n",
       "        [1., 1.],\n",
       "        [1., 1.]], dtype=float32)>)"
      ]
     },
     "execution_count": 9,
     "metadata": {},
     "output_type": "execute_result"
    }
   ],
   "source": [
    "FracOnesMaskedInputWithFeedback(4, .5)([X, prior_masks])"
   ]
  },
  {
   "cell_type": "code",
   "execution_count": 10,
   "id": "788904de-3ee1-4643-aa71-c3b108805dc3",
   "metadata": {},
   "outputs": [
    {
     "data": {
      "text/plain": [
       "(<tf.Tensor: shape=(3, 4, 2), dtype=float32, numpy=\n",
       " array([[[0.01704586, 0.91344154],\n",
       "         [0.01704586, 0.91344154],\n",
       "         [0.01704586, 0.91344154],\n",
       "         [0.01704586, 0.91344154]],\n",
       " \n",
       "        [[0.48964906, 0.63008714],\n",
       "         [0.48964906, 0.63008714],\n",
       "         [0.48964906, 0.63008714],\n",
       "         [0.48964906, 0.63008714]],\n",
       " \n",
       "        [[0.48784328, 0.23413813],\n",
       "         [0.48784328, 0.23413813],\n",
       "         [0.48784328, 0.23413813],\n",
       "         [0.48784328, 0.23413813]]], dtype=float32)>,\n",
       " <tf.Tensor: shape=(4, 2), dtype=float32, numpy=\n",
       " array([[1., 1.],\n",
       "        [1., 1.],\n",
       "        [1., 1.],\n",
       "        [1., 1.]], dtype=float32)>)"
      ]
     },
     "execution_count": 10,
     "metadata": {},
     "output_type": "execute_result"
    }
   ],
   "source": [
    "AllOnesMaskedInputNoFeedback(4)(X)"
   ]
  },
  {
   "cell_type": "code",
   "execution_count": 11,
   "id": "7f4cb4c3-49f3-4ed2-8b2a-43f66dc042a4",
   "metadata": {},
   "outputs": [
    {
     "data": {
      "text/plain": [
       "(<tf.Tensor: shape=(3, 4, 2), dtype=float32, numpy=\n",
       " array([[[0.01704586, 0.91344154],\n",
       "         [0.01704586, 0.91344154],\n",
       "         [0.01704586, 0.91344154],\n",
       "         [0.01704586, 0.91344154]],\n",
       " \n",
       "        [[0.48964906, 0.63008714],\n",
       "         [0.48964906, 0.63008714],\n",
       "         [0.48964906, 0.63008714],\n",
       "         [0.48964906, 0.63008714]],\n",
       " \n",
       "        [[0.48784328, 0.23413813],\n",
       "         [0.48784328, 0.23413813],\n",
       "         [0.48784328, 0.23413813],\n",
       "         [0.48784328, 0.23413813]]], dtype=float32)>,\n",
       " <tf.Tensor: shape=(4, 2), dtype=float32, numpy=\n",
       " array([[1., 1.],\n",
       "        [1., 1.],\n",
       "        [1., 1.],\n",
       "        [1., 1.]], dtype=float32)>)"
      ]
     },
     "execution_count": 11,
     "metadata": {},
     "output_type": "execute_result"
    }
   ],
   "source": [
    "AllOnesMaskedInputWithFeedback(4)([X, prior_masks])"
   ]
  },
  {
   "cell_type": "code",
   "execution_count": 12,
   "id": "5777a71b-4fce-4aab-b131-acf552a45f45",
   "metadata": {},
   "outputs": [
    {
     "data": {
      "text/plain": [
       "(<tf.Tensor: shape=(3, 4, 2), dtype=float32, numpy=\n",
       " array([[[0.0023104 , 0.75335485],\n",
       "         [0.01298574, 0.17219281],\n",
       "         [0.0132488 , 0.16431086],\n",
       "         [0.00736878, 0.6193334 ]],\n",
       " \n",
       "        [[0.06636704, 0.5196602 ],\n",
       "         [0.37302056, 0.11877769],\n",
       "         [0.38057712, 0.11334077],\n",
       "         [0.21167113, 0.4272129 ]],\n",
       " \n",
       "        [[0.06612228, 0.19310388],\n",
       "         [0.3716449 , 0.04413737],\n",
       "         [0.3791736 , 0.04211702],\n",
       "         [0.2108905 , 0.15875079]]], dtype=float32)>,\n",
       " <tf.Tensor: shape=(4, 2), dtype=float32, numpy=\n",
       " array([[0.13554001, 0.8247434 ],\n",
       "        [0.7618121 , 0.18850994],\n",
       "        [0.7772447 , 0.1798811 ],\n",
       "        [0.4322915 , 0.6780219 ]], dtype=float32)>)"
      ]
     },
     "execution_count": 12,
     "metadata": {},
     "output_type": "execute_result"
    }
   ],
   "source": [
    "RandomMaskedInputNoFeedback(4)(X)"
   ]
  },
  {
   "cell_type": "code",
   "execution_count": 13,
   "id": "0cb94275-d7a6-4b90-8bec-aafa7301165d",
   "metadata": {},
   "outputs": [
    {
     "data": {
      "text/plain": [
       "(<tf.Tensor: shape=(3, 4, 2), dtype=float32, numpy=\n",
       " array([[[0.00708336, 0.8814121 ],\n",
       "         [0.01048479, 0.73423856],\n",
       "         [0.01307732, 0.86237776],\n",
       "         [0.00572465, 0.62218183]],\n",
       " \n",
       "        [[0.20347232, 0.6079934 ],\n",
       "         [0.30117995, 0.5064739 ],\n",
       "         [0.37565133, 0.59486365],\n",
       "         [0.16444275, 0.42917773]],\n",
       " \n",
       "        [[0.20272194, 0.22592817],\n",
       "         [0.3000692 , 0.18820389],\n",
       "         [0.37426597, 0.2210492 ],\n",
       "         [0.16383629, 0.15948091]]], dtype=float32)>,\n",
       " <tf.Tensor: shape=(4, 2), dtype=float32, numpy=\n",
       " array([[0.41554725, 0.9649354 ],\n",
       "        [0.61509347, 0.8038156 ],\n",
       "        [0.76718485, 0.9440974 ],\n",
       "        [0.33583796, 0.6811403 ]], dtype=float32)>)"
      ]
     },
     "execution_count": 13,
     "metadata": {},
     "output_type": "execute_result"
    }
   ],
   "source": [
    "RandomMaskedInputWithFeedback(4)([X, prior_masks])"
   ]
  },
  {
   "cell_type": "code",
   "execution_count": null,
   "id": "0154950f-8dde-4f34-9269-98c78d12956c",
   "metadata": {},
   "outputs": [],
   "source": []
  },
  {
   "cell_type": "code",
   "execution_count": null,
   "id": "f0848f55-dc28-4635-accc-c07bc78a5a18",
   "metadata": {},
   "outputs": [],
   "source": []
  }
 ],
 "metadata": {
  "kernelspec": {
   "display_name": "Python 3 (ipykernel)",
   "language": "python",
   "name": "python3"
  },
  "language_info": {
   "codemirror_mode": {
    "name": "ipython",
    "version": 3
   },
   "file_extension": ".py",
   "mimetype": "text/x-python",
   "name": "python",
   "nbconvert_exporter": "python",
   "pygments_lexer": "ipython3",
   "version": "3.9.7"
  }
 },
 "nbformat": 4,
 "nbformat_minor": 5
}
