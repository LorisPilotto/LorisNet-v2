{
 "cells": [
  {
   "cell_type": "code",
   "execution_count": 1,
   "id": "1b97c54f-434b-439c-965c-d874dbd4cd79",
   "metadata": {},
   "outputs": [],
   "source": [
    "from LorisNet import *\n",
    "import tensorflow as tf"
   ]
  },
  {
   "cell_type": "code",
   "execution_count": 2,
   "id": "fe217d19-d9b8-4416-8d76-0e764618f624",
   "metadata": {},
   "outputs": [
    {
     "data": {
      "text/plain": [
       "<tf.Tensor: shape=(3, 2), dtype=float32, numpy=\n",
       "array([[0.29457104, 0.17625213],\n",
       "       [0.14131105, 0.10600519],\n",
       "       [0.43496895, 0.20234561]], dtype=float32)>"
      ]
     },
     "execution_count": 2,
     "metadata": {},
     "output_type": "execute_result"
    }
   ],
   "source": [
    "X = tf.random.uniform((3, 2))\n",
    "\n",
    "X"
   ]
  },
  {
   "cell_type": "code",
   "execution_count": 3,
   "id": "00012be4-bfa0-45ce-ae76-25031751d5ff",
   "metadata": {},
   "outputs": [
    {
     "data": {
      "text/plain": [
       "<tf.Tensor: shape=(4, 5, 2), dtype=float32, numpy=\n",
       "array([[[0.425084  , 0.5526043 ],\n",
       "        [0.27846718, 0.1096046 ],\n",
       "        [0.89013565, 0.8725954 ],\n",
       "        [0.718861  , 0.5881225 ],\n",
       "        [0.8440119 , 0.03376806]],\n",
       "\n",
       "       [[0.04182279, 0.76367414],\n",
       "        [0.84270215, 0.1782974 ],\n",
       "        [0.9732667 , 0.60763717],\n",
       "        [0.48093963, 0.24165833],\n",
       "        [0.8466196 , 0.92005193]],\n",
       "\n",
       "       [[0.37466633, 0.2642815 ],\n",
       "        [0.8465402 , 0.4377774 ],\n",
       "        [0.51724696, 0.7409941 ],\n",
       "        [0.79610777, 0.46706462],\n",
       "        [0.91728425, 0.34923697]],\n",
       "\n",
       "       [[0.21709847, 0.12265658],\n",
       "        [0.21439648, 0.43175817],\n",
       "        [0.12425125, 0.37987292],\n",
       "        [0.1598754 , 0.15160978],\n",
       "        [0.66287637, 0.10355556]]], dtype=float32)>"
      ]
     },
     "execution_count": 3,
     "metadata": {},
     "output_type": "execute_result"
    }
   ],
   "source": [
    "prior_masks = tf.random.uniform((4, 5, 2))  # nbr masks, nbr prior masks, input dim\n",
    "\n",
    "prior_masks"
   ]
  },
  {
   "cell_type": "code",
   "execution_count": 4,
   "id": "2e67883d-e78d-4fe8-9df2-654590cf65ab",
   "metadata": {},
   "outputs": [
    {
     "data": {
      "text/plain": [
       "(<tf.Tensor: shape=(3, 4, 2), dtype=float32, numpy=\n",
       " array([[[0.15547355, 0.10322578],\n",
       "         [0.08931935, 0.0873716 ],\n",
       "         [0.16860314, 0.12099452],\n",
       "         [0.17372386, 0.06610066]],\n",
       " \n",
       "        [[0.07458347, 0.06208418],\n",
       "         [0.04284811, 0.05254883],\n",
       "         [0.08088197, 0.07277102],\n",
       "         [0.08333848, 0.03975562]],\n",
       " \n",
       "        [[0.22957507, 0.11850798],\n",
       "         [0.13189058, 0.10030665],\n",
       "         [0.24896245, 0.13890733],\n",
       "         [0.25652382, 0.07588662]]], dtype=float32)>,\n",
       " <tf.Tensor: shape=(4, 2), dtype=float32, numpy=\n",
       " array([[0.52779645, 0.5856711 ],\n",
       "        [0.30321836, 0.49571943],\n",
       "        [0.5723683 , 0.68648547],\n",
       "        [0.589752  , 0.3750347 ]], dtype=float32)>)"
      ]
     },
     "execution_count": 4,
     "metadata": {},
     "output_type": "execute_result"
    }
   ],
   "source": [
    "SigmoidMaskedInputNoFeedback(4)(X)"
   ]
  },
  {
   "cell_type": "code",
   "execution_count": 5,
   "id": "c705f199-929d-44b0-95ac-ddf38a997f5a",
   "metadata": {},
   "outputs": [
    {
     "data": {
      "text/plain": [
       "(<tf.Tensor: shape=(3, 4, 2), dtype=float32, numpy=\n",
       " array([[[0.12761387, 0.11900552],\n",
       "         [0.1304569 , 0.11846469],\n",
       "         [0.16267815, 0.06320681],\n",
       "         [0.17733698, 0.09015307]],\n",
       " \n",
       "        [[0.06121868, 0.07157476],\n",
       "         [0.06258253, 0.07124949],\n",
       "         [0.07803965, 0.03801515],\n",
       "         [0.08507175, 0.05422172]],\n",
       " \n",
       "        [[0.18843696, 0.13662384],\n",
       "         [0.19263501, 0.13600296],\n",
       "         [0.24021351, 0.07256436],\n",
       "         [0.261859  , 0.1034999 ]]], dtype=float32)>,\n",
       " <tf.Tensor: shape=(4, 2), dtype=float32, numpy=\n",
       " array([[0.43321934, 0.67520046],\n",
       "        [0.44287074, 0.672132  ],\n",
       "        [0.5522544 , 0.3586159 ],\n",
       "        [0.6020177 , 0.5115006 ]], dtype=float32)>)"
      ]
     },
     "execution_count": 5,
     "metadata": {},
     "output_type": "execute_result"
    }
   ],
   "source": [
    "SigmoidMaskedInputWithFeedback(4)([X, prior_masks])"
   ]
  },
  {
   "cell_type": "code",
   "execution_count": 6,
   "id": "b28d63ab-b019-4010-91d9-4381318e31dd",
   "metadata": {},
   "outputs": [
    {
     "data": {
      "text/plain": [
       "(<tf.Tensor: shape=(3, 4, 2), dtype=float32, numpy=\n",
       " array([[[0.08301196, 0.12658317],\n",
       "         [0.21015348, 0.05050996],\n",
       "         [0.10107295, 0.11577665],\n",
       "         [0.1188712 , 0.10512733]],\n",
       " \n",
       "        [[0.03982233, 0.07613227],\n",
       "         [0.10081442, 0.03037874],\n",
       "         [0.04848652, 0.06963278],\n",
       "         [0.05702466, 0.06322785]],\n",
       " \n",
       "        [[0.12257696, 0.14532335],\n",
       "         [0.31031644, 0.05798778],\n",
       "         [0.14924616, 0.13291696],\n",
       "         [0.17552738, 0.12069105]]], dtype=float32)>,\n",
       " <tf.Tensor: shape=(4, 2), dtype=float32, numpy=\n",
       " array([[0.28180623, 0.71819377],\n",
       "        [0.71342206, 0.28657788],\n",
       "        [0.3431191 , 0.65688086],\n",
       "        [0.40354002, 0.5964599 ]], dtype=float32)>)"
      ]
     },
     "execution_count": 6,
     "metadata": {},
     "output_type": "execute_result"
    }
   ],
   "source": [
    "SoftmaxMaskedInputNoFeedback(4)(X)"
   ]
  },
  {
   "cell_type": "code",
   "execution_count": 7,
   "id": "442d7a89-1e4d-47d6-9d05-731ea35cb3ac",
   "metadata": {},
   "outputs": [
    {
     "data": {
      "text/plain": [
       "(<tf.Tensor: shape=(3, 4, 2), dtype=float32, numpy=\n",
       " array([[[0.18806827, 0.06372432],\n",
       "         [0.17425139, 0.07199144],\n",
       "         [0.14102511, 0.09187189],\n",
       "         [0.18758117, 0.06401578]],\n",
       " \n",
       "        [[0.09021975, 0.0383264 ],\n",
       "         [0.08359154, 0.04329858],\n",
       "         [0.06765229, 0.05525548],\n",
       "         [0.08998608, 0.03850169]],\n",
       " \n",
       "        [[0.27770504, 0.07315848],\n",
       "         [0.25730276, 0.08264951],\n",
       "         [0.20824024, 0.10547318],\n",
       "         [0.27698576, 0.07349308]]], dtype=float32)>,\n",
       " <tf.Tensor: shape=(4, 2), dtype=float32, numpy=\n",
       " array([[0.63844794, 0.3615521 ],\n",
       "        [0.59154284, 0.40845716],\n",
       "        [0.47874737, 0.52125263],\n",
       "        [0.6367943 , 0.3632057 ]], dtype=float32)>)"
      ]
     },
     "execution_count": 7,
     "metadata": {},
     "output_type": "execute_result"
    }
   ],
   "source": [
    "SoftmaxMaskedInputWithFeedback(4)([X, prior_masks])"
   ]
  },
  {
   "cell_type": "code",
   "execution_count": 8,
   "id": "1ce1800d-6834-4bab-917a-dcddec174e31",
   "metadata": {},
   "outputs": [
    {
     "data": {
      "text/plain": [
       "(<tf.Tensor: shape=(3, 4, 2), dtype=float32, numpy=\n",
       " array([[[0.29457104, 0.17625213],\n",
       "         [0.29457104, 0.        ],\n",
       "         [0.        , 0.        ],\n",
       "         [0.        , 0.17625213]],\n",
       " \n",
       "        [[0.14131105, 0.10600519],\n",
       "         [0.14131105, 0.        ],\n",
       "         [0.        , 0.        ],\n",
       "         [0.        , 0.10600519]],\n",
       " \n",
       "        [[0.43496895, 0.20234561],\n",
       "         [0.43496895, 0.        ],\n",
       "         [0.        , 0.        ],\n",
       "         [0.        , 0.20234561]]], dtype=float32)>,\n",
       " <tf.Tensor: shape=(4, 2), dtype=float32, numpy=\n",
       " array([[1., 1.],\n",
       "        [1., 0.],\n",
       "        [0., 0.],\n",
       "        [0., 1.]], dtype=float32)>)"
      ]
     },
     "execution_count": 8,
     "metadata": {},
     "output_type": "execute_result"
    }
   ],
   "source": [
    "FracOnesMaskedInputNoFeedback(4, .5)(X)"
   ]
  },
  {
   "cell_type": "code",
   "execution_count": 9,
   "id": "dc1a944d-7fe4-4f86-91a3-881e53f15e47",
   "metadata": {},
   "outputs": [
    {
     "data": {
      "text/plain": [
       "(<tf.Tensor: shape=(3, 4, 2), dtype=float32, numpy=\n",
       " array([[[0.        , 0.        ],\n",
       "         [0.29457104, 0.17625213],\n",
       "         [0.        , 0.17625213],\n",
       "         [0.        , 0.17625213]],\n",
       " \n",
       "        [[0.        , 0.        ],\n",
       "         [0.14131105, 0.10600519],\n",
       "         [0.        , 0.10600519],\n",
       "         [0.        , 0.10600519]],\n",
       " \n",
       "        [[0.        , 0.        ],\n",
       "         [0.43496895, 0.20234561],\n",
       "         [0.        , 0.20234561],\n",
       "         [0.        , 0.20234561]]], dtype=float32)>,\n",
       " <tf.Tensor: shape=(4, 2), dtype=float32, numpy=\n",
       " array([[0., 0.],\n",
       "        [1., 1.],\n",
       "        [0., 1.],\n",
       "        [0., 1.]], dtype=float32)>)"
      ]
     },
     "execution_count": 9,
     "metadata": {},
     "output_type": "execute_result"
    }
   ],
   "source": [
    "FracOnesMaskedInputWithFeedback(4, .5)([X, prior_masks])"
   ]
  },
  {
   "cell_type": "code",
   "execution_count": 10,
   "id": "788904de-3ee1-4643-aa71-c3b108805dc3",
   "metadata": {},
   "outputs": [
    {
     "data": {
      "text/plain": [
       "(<tf.Tensor: shape=(3, 4, 2), dtype=float32, numpy=\n",
       " array([[[0.29457104, 0.17625213],\n",
       "         [0.29457104, 0.17625213],\n",
       "         [0.29457104, 0.17625213],\n",
       "         [0.29457104, 0.17625213]],\n",
       " \n",
       "        [[0.14131105, 0.10600519],\n",
       "         [0.14131105, 0.10600519],\n",
       "         [0.14131105, 0.10600519],\n",
       "         [0.14131105, 0.10600519]],\n",
       " \n",
       "        [[0.43496895, 0.20234561],\n",
       "         [0.43496895, 0.20234561],\n",
       "         [0.43496895, 0.20234561],\n",
       "         [0.43496895, 0.20234561]]], dtype=float32)>,\n",
       " <tf.Tensor: shape=(4, 2), dtype=float32, numpy=\n",
       " array([[1., 1.],\n",
       "        [1., 1.],\n",
       "        [1., 1.],\n",
       "        [1., 1.]], dtype=float32)>)"
      ]
     },
     "execution_count": 10,
     "metadata": {},
     "output_type": "execute_result"
    }
   ],
   "source": [
    "AllOnesMaskedInputNoFeedback(4)(X)"
   ]
  },
  {
   "cell_type": "code",
   "execution_count": 11,
   "id": "7f4cb4c3-49f3-4ed2-8b2a-43f66dc042a4",
   "metadata": {},
   "outputs": [
    {
     "data": {
      "text/plain": [
       "(<tf.Tensor: shape=(3, 4, 2), dtype=float32, numpy=\n",
       " array([[[0.29457104, 0.17625213],\n",
       "         [0.29457104, 0.17625213],\n",
       "         [0.29457104, 0.17625213],\n",
       "         [0.29457104, 0.17625213]],\n",
       " \n",
       "        [[0.14131105, 0.10600519],\n",
       "         [0.14131105, 0.10600519],\n",
       "         [0.14131105, 0.10600519],\n",
       "         [0.14131105, 0.10600519]],\n",
       " \n",
       "        [[0.43496895, 0.20234561],\n",
       "         [0.43496895, 0.20234561],\n",
       "         [0.43496895, 0.20234561],\n",
       "         [0.43496895, 0.20234561]]], dtype=float32)>,\n",
       " <tf.Tensor: shape=(4, 2), dtype=float32, numpy=\n",
       " array([[1., 1.],\n",
       "        [1., 1.],\n",
       "        [1., 1.],\n",
       "        [1., 1.]], dtype=float32)>)"
      ]
     },
     "execution_count": 11,
     "metadata": {},
     "output_type": "execute_result"
    }
   ],
   "source": [
    "AllOnesMaskedInputWithFeedback(4)([X, prior_masks])"
   ]
  },
  {
   "cell_type": "code",
   "execution_count": 12,
   "id": "5777a71b-4fce-4aab-b131-acf552a45f45",
   "metadata": {},
   "outputs": [
    {
     "data": {
      "text/plain": [
       "(<tf.Tensor: shape=(3, 4, 2), dtype=float32, numpy=\n",
       " array([[[1.89964637e-01, 7.40929544e-02],\n",
       "         [2.38956004e-01, 7.70738721e-02],\n",
       "         [1.58783078e-01, 8.74380395e-02],\n",
       "         [5.32801338e-02, 4.36123053e-04]],\n",
       " \n",
       "        [[9.11294669e-02, 4.45625111e-02],\n",
       "         [1.14631511e-01, 4.63553593e-02],\n",
       "         [7.61711076e-02, 5.25887907e-02],\n",
       "         [2.55594421e-02, 2.62302143e-04]],\n",
       " \n",
       "        [[2.80505240e-01, 8.50621462e-02],\n",
       "         [3.52846771e-01, 8.84843767e-02],\n",
       "         [2.34461963e-01, 1.00382924e-01],\n",
       "         [7.86744133e-02, 5.00689493e-04]]], dtype=float32)>,\n",
       " <tf.Tensor: shape=(4, 2), dtype=float32, numpy=\n",
       " array([[0.64488566, 0.42038047],\n",
       "        [0.8111999 , 0.4372933 ],\n",
       "        [0.5390315 , 0.49609637],\n",
       "        [0.18087363, 0.00247443]], dtype=float32)>)"
      ]
     },
     "execution_count": 12,
     "metadata": {},
     "output_type": "execute_result"
    }
   ],
   "source": [
    "RandomMaskedInputNoFeedback(4)(X)"
   ]
  },
  {
   "cell_type": "code",
   "execution_count": 13,
   "id": "0cb94275-d7a6-4b90-8bec-aafa7301165d",
   "metadata": {},
   "outputs": [
    {
     "data": {
      "text/plain": [
       "(<tf.Tensor: shape=(3, 4, 2), dtype=float32, numpy=\n",
       " array([[[0.11937121, 0.08637474],\n",
       "         [0.28269938, 0.07627258],\n",
       "         [0.28693417, 0.01248803],\n",
       "         [0.28571066, 0.13519967]],\n",
       " \n",
       "        [[0.05726453, 0.05194928],\n",
       "         [0.13561599, 0.04587343],\n",
       "         [0.13764751, 0.00751081],\n",
       "         [0.13706057, 0.08131457]],\n",
       " \n",
       "        [[0.1762657 , 0.09916221],\n",
       "         [0.417439  , 0.08756445],\n",
       "         [0.4236922 , 0.01433684],\n",
       "         [0.42188558, 0.15521547]]], dtype=float32)>,\n",
       " <tf.Tensor: shape=(4, 2), dtype=float32, numpy=\n",
       " array([[0.40523744, 0.49006355],\n",
       "        [0.95969844, 0.432747  ],\n",
       "        [0.9740746 , 0.07085323],\n",
       "        [0.9699211 , 0.767081  ]], dtype=float32)>)"
      ]
     },
     "execution_count": 13,
     "metadata": {},
     "output_type": "execute_result"
    }
   ],
   "source": [
    "RandomMaskedInputWithFeedback(4)([X, prior_masks])"
   ]
  },
  {
   "cell_type": "code",
   "execution_count": 14,
   "id": "64e7a2c8-152a-46bf-9ef8-a7da4c8bf0c3",
   "metadata": {},
   "outputs": [
    {
     "data": {
      "text/plain": [
       "<tf.Tensor: shape=(4, 2), dtype=float32, numpy=\n",
       "array([[0.74445665, 0.08375955],\n",
       "       [0.38694477, 0.5415486 ],\n",
       "       [0.18022668, 0.8081273 ],\n",
       "       [0.22822833, 0.3011979 ]], dtype=float32)>"
      ]
     },
     "execution_count": 14,
     "metadata": {},
     "output_type": "execute_result"
    }
   ],
   "source": [
    "masks = tf.random.uniform((4, 2))\n",
    "masks"
   ]
  },
  {
   "cell_type": "code",
   "execution_count": 15,
   "id": "c9b7bb46-f053-4630-8159-335d6ff541d2",
   "metadata": {},
   "outputs": [
    {
     "data": {
      "text/plain": [
       "(<tf.Tensor: shape=(3, 4, 2), dtype=float32, numpy=\n",
       " array([[[0.21929537, 0.0147628 ],\n",
       "         [0.11398272, 0.0954491 ],\n",
       "         [0.05308956, 0.14243415],\n",
       "         [0.06722946, 0.05308677]],\n",
       " \n",
       "        [[0.10519995, 0.00887895],\n",
       "         [0.05467957, 0.05740697],\n",
       "         [0.02546802, 0.08566569],\n",
       "         [0.03225119, 0.03192854]],\n",
       " \n",
       "        [[0.32381552, 0.01694838],\n",
       "         [0.16830896, 0.10957998],\n",
       "         [0.07839301, 0.163521  ],\n",
       "         [0.09927224, 0.06094607]]], dtype=float32)>,\n",
       " <tf.Tensor: shape=(4, 2), dtype=float32, numpy=\n",
       " array([[0.74445665, 0.08375955],\n",
       "        [0.38694477, 0.5415486 ],\n",
       "        [0.18022668, 0.8081273 ],\n",
       "        [0.22822833, 0.3011979 ]], dtype=float32)>)"
      ]
     },
     "execution_count": 15,
     "metadata": {},
     "output_type": "execute_result"
    }
   ],
   "source": [
    "DeterminedMaskedInputNoFeedback(masks)(X)"
   ]
  },
  {
   "cell_type": "code",
   "execution_count": 16,
   "id": "f0848f55-dc28-4635-accc-c07bc78a5a18",
   "metadata": {},
   "outputs": [
    {
     "data": {
      "text/plain": [
       "(<tf.Tensor: shape=(3, 4, 2), dtype=float32, numpy=\n",
       " array([[[0.21929537, 0.0147628 ],\n",
       "         [0.11398272, 0.0954491 ],\n",
       "         [0.05308956, 0.14243415],\n",
       "         [0.06722946, 0.05308677]],\n",
       " \n",
       "        [[0.10519995, 0.00887895],\n",
       "         [0.05467957, 0.05740697],\n",
       "         [0.02546802, 0.08566569],\n",
       "         [0.03225119, 0.03192854]],\n",
       " \n",
       "        [[0.32381552, 0.01694838],\n",
       "         [0.16830896, 0.10957998],\n",
       "         [0.07839301, 0.163521  ],\n",
       "         [0.09927224, 0.06094607]]], dtype=float32)>,\n",
       " <tf.Tensor: shape=(4, 2), dtype=float32, numpy=\n",
       " array([[0.74445665, 0.08375955],\n",
       "        [0.38694477, 0.5415486 ],\n",
       "        [0.18022668, 0.8081273 ],\n",
       "        [0.22822833, 0.3011979 ]], dtype=float32)>)"
      ]
     },
     "execution_count": 16,
     "metadata": {},
     "output_type": "execute_result"
    }
   ],
   "source": [
    "DeterminedMaskedInputWithFeedback(masks)([X, prior_masks])"
   ]
  },
  {
   "cell_type": "code",
   "execution_count": null,
   "id": "57ca0d1e-e3c0-4b50-9d3c-f1e60ea07e33",
   "metadata": {},
   "outputs": [],
   "source": []
  }
 ],
 "metadata": {
  "kernelspec": {
   "display_name": "Python 3 (ipykernel)",
   "language": "python",
   "name": "python3"
  },
  "language_info": {
   "codemirror_mode": {
    "name": "ipython",
    "version": 3
   },
   "file_extension": ".py",
   "mimetype": "text/x-python",
   "name": "python",
   "nbconvert_exporter": "python",
   "pygments_lexer": "ipython3",
   "version": "3.9.7"
  }
 },
 "nbformat": 4,
 "nbformat_minor": 5
}
