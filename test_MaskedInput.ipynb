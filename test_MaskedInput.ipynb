{
 "cells": [
  {
   "cell_type": "code",
   "execution_count": 1,
   "id": "1b97c54f-434b-439c-965c-d874dbd4cd79",
   "metadata": {},
   "outputs": [],
   "source": [
    "from LorisNet import *\n",
    "import tensorflow as tf"
   ]
  },
  {
   "cell_type": "code",
   "execution_count": 2,
   "id": "fe217d19-d9b8-4416-8d76-0e764618f624",
   "metadata": {},
   "outputs": [
    {
     "data": {
      "text/plain": [
       "<tf.Tensor: shape=(3, 2), dtype=float32, numpy=\n",
       "array([[0.15850115, 0.7566403 ],\n",
       "       [0.0508014 , 0.17678547],\n",
       "       [0.7601279 , 0.05344021]], dtype=float32)>"
      ]
     },
     "execution_count": 2,
     "metadata": {},
     "output_type": "execute_result"
    }
   ],
   "source": [
    "X = tf.random.uniform((3, 2))\n",
    "\n",
    "X"
   ]
  },
  {
   "cell_type": "code",
   "execution_count": 3,
   "id": "00012be4-bfa0-45ce-ae76-25031751d5ff",
   "metadata": {},
   "outputs": [
    {
     "data": {
      "text/plain": [
       "<tf.Tensor: shape=(3, 5, 4, 2), dtype=float32, numpy=\n",
       "array([[[[0.59402716, 0.33935738],\n",
       "         [0.9390849 , 0.12968278],\n",
       "         [0.8505801 , 0.18328285],\n",
       "         [0.21201563, 0.5855168 ]],\n",
       "\n",
       "        [[0.46453297, 0.66443586],\n",
       "         [0.19534588, 0.8053752 ],\n",
       "         [0.522279  , 0.52214336],\n",
       "         [0.43874264, 0.89798594]],\n",
       "\n",
       "        [[0.32971668, 0.64977944],\n",
       "         [0.06914294, 0.989082  ],\n",
       "         [0.202672  , 0.35102034],\n",
       "         [0.41564417, 0.59657204]],\n",
       "\n",
       "        [[0.7473748 , 0.12871456],\n",
       "         [0.5820404 , 0.9488728 ],\n",
       "         [0.20098448, 0.5915183 ],\n",
       "         [0.11677015, 0.6738868 ]],\n",
       "\n",
       "        [[0.38553238, 0.6701721 ],\n",
       "         [0.2951243 , 0.93550813],\n",
       "         [0.90247285, 0.70605755],\n",
       "         [0.22110343, 0.52675164]]],\n",
       "\n",
       "\n",
       "       [[[0.4038545 , 0.7368028 ],\n",
       "         [0.29114258, 0.30919743],\n",
       "         [0.72735167, 0.84070706],\n",
       "         [0.28155303, 0.4331478 ]],\n",
       "\n",
       "        [[0.3874638 , 0.28664947],\n",
       "         [0.04507852, 0.76075685],\n",
       "         [0.43958855, 0.8587847 ],\n",
       "         [0.85655963, 0.35456288]],\n",
       "\n",
       "        [[0.19445932, 0.53698003],\n",
       "         [0.5814482 , 0.37656808],\n",
       "         [0.13630748, 0.37268984],\n",
       "         [0.93577266, 0.8207302 ]],\n",
       "\n",
       "        [[0.8032558 , 0.23983777],\n",
       "         [0.23735595, 0.98739696],\n",
       "         [0.72962046, 0.77594185],\n",
       "         [0.5763407 , 0.8471265 ]],\n",
       "\n",
       "        [[0.00585067, 0.2451806 ],\n",
       "         [0.9507263 , 0.9758073 ],\n",
       "         [0.50785875, 0.5603719 ],\n",
       "         [0.64967155, 0.7317021 ]]],\n",
       "\n",
       "\n",
       "       [[[0.26148486, 0.61110485],\n",
       "         [0.8097528 , 0.7710334 ],\n",
       "         [0.11408389, 0.6371105 ],\n",
       "         [0.9406971 , 0.7983935 ]],\n",
       "\n",
       "        [[0.7114253 , 0.94672084],\n",
       "         [0.50627136, 0.6858438 ],\n",
       "         [0.87254834, 0.03542221],\n",
       "         [0.7666346 , 0.74417436]],\n",
       "\n",
       "        [[0.6408144 , 0.35908806],\n",
       "         [0.04469693, 0.8449538 ],\n",
       "         [0.50469065, 0.19592118],\n",
       "         [0.12410092, 0.99559176]],\n",
       "\n",
       "        [[0.9479079 , 0.9877429 ],\n",
       "         [0.6100633 , 0.74328995],\n",
       "         [0.6241149 , 0.82055914],\n",
       "         [0.6264082 , 0.25919604]],\n",
       "\n",
       "        [[0.3240068 , 0.6417148 ],\n",
       "         [0.49916184, 0.29379165],\n",
       "         [0.74858856, 0.8087753 ],\n",
       "         [0.62319577, 0.97179246]]]], dtype=float32)>"
      ]
     },
     "execution_count": 3,
     "metadata": {},
     "output_type": "execute_result"
    }
   ],
   "source": [
    "prior_masks = tf.random.uniform((3, 4, 5, 2))  # nbr samples, nbr masks, nbr prior masks, input dim\n",
    "\n",
    "prior_masks"
   ]
  },
  {
   "cell_type": "code",
   "execution_count": 4,
   "id": "2e67883d-e78d-4fe8-9df2-654590cf65ab",
   "metadata": {},
   "outputs": [
    {
     "data": {
      "text/plain": [
       "(<tf.Tensor: shape=(3, 4, 2), dtype=float32, numpy=\n",
       " array([[[0.09087455, 0.33381334],\n",
       "         [0.1118552 , 0.21776225],\n",
       "         [0.09978543, 0.3846148 ],\n",
       "         [0.04933114, 0.44874084]],\n",
       " \n",
       "        [[0.02912631, 0.07799393],\n",
       "         [0.03585085, 0.05087913],\n",
       "         [0.03198235, 0.08986345],\n",
       "         [0.01581118, 0.10484619]],\n",
       " \n",
       "        [[0.4358093 , 0.02357667],\n",
       "         [0.5364268 , 0.01538018],\n",
       "         [0.4785435 , 0.02716469],\n",
       "         [0.23657855, 0.0316938 ]]], dtype=float32)>,\n",
       " <tf.Tensor: shape=(4, 2), dtype=float32, numpy=\n",
       " array([[0.57333684, 0.44117838],\n",
       "        [0.70570594, 0.28780153],\n",
       "        [0.62955654, 0.5083192 ],\n",
       "        [0.3112352 , 0.5930702 ]], dtype=float32)>)"
      ]
     },
     "execution_count": 4,
     "metadata": {},
     "output_type": "execute_result"
    }
   ],
   "source": [
    "SigmoidMaskedInputNoFeedback(4)(X)"
   ]
  },
  {
   "cell_type": "code",
   "execution_count": 5,
   "id": "c705f199-929d-44b0-95ac-ddf38a997f5a",
   "metadata": {},
   "outputs": [
    {
     "data": {
      "text/plain": [
       "(<tf.Tensor: shape=(3, 4, 2), dtype=float32, numpy=\n",
       " array([[[0.11392841, 0.20872699],\n",
       "         [0.04807739, 0.38535503],\n",
       "         [0.0909536 , 0.3172954 ],\n",
       "         [0.07163234, 0.20609492]],\n",
       " \n",
       "        [[0.03651533, 0.04876808],\n",
       "         [0.01540934, 0.09003639],\n",
       "         [0.02915165, 0.07413459],\n",
       "         [0.02295897, 0.04815311]],\n",
       " \n",
       "        [[0.5463693 , 0.01474203],\n",
       "         [0.23056595, 0.02721697],\n",
       "         [0.4361884 , 0.02241003],\n",
       "         [0.34352902, 0.01455613]]], dtype=float32)>,\n",
       " <tf.Tensor: shape=(4, 2), dtype=float32, numpy=\n",
       " array([[0.718786  , 0.27586025],\n",
       "        [0.3033252 , 0.5092975 ],\n",
       "        [0.57383555, 0.41934773],\n",
       "        [0.4519358 , 0.27238163]], dtype=float32)>)"
      ]
     },
     "execution_count": 5,
     "metadata": {},
     "output_type": "execute_result"
    }
   ],
   "source": [
    "SigmoidMaskedInputWithFeedback(4)([X, prior_masks])"
   ]
  },
  {
   "cell_type": "code",
   "execution_count": 6,
   "id": "b28d63ab-b019-4010-91d9-4381318e31dd",
   "metadata": {},
   "outputs": [
    {
     "data": {
      "text/plain": [
       "(<tf.Tensor: shape=(3, 4, 2), dtype=float32, numpy=\n",
       " array([[[0.06823844, 0.430889  ],\n",
       "         [0.05880385, 0.47592717],\n",
       "         [0.0872518 , 0.34012452],\n",
       "         [0.12063531, 0.18076101]],\n",
       " \n",
       "        [[0.02187119, 0.1006752 ],\n",
       "         [0.01884729, 0.11119816],\n",
       "         [0.02796518, 0.0794685 ],\n",
       "         [0.03866497, 0.04223396]],\n",
       " \n",
       "        [[0.32725284, 0.03043295],\n",
       "         [0.28200707, 0.03361392],\n",
       "         [0.41843566, 0.02402241],\n",
       "         [0.57853377, 0.01276684]]], dtype=float32)>,\n",
       " <tf.Tensor: shape=(4, 2), dtype=float32, numpy=\n",
       " array([[0.43052337, 0.56947666],\n",
       "        [0.3709995 , 0.62900054],\n",
       "        [0.5504806 , 0.44951943],\n",
       "        [0.76110053, 0.23889951]], dtype=float32)>)"
      ]
     },
     "execution_count": 6,
     "metadata": {},
     "output_type": "execute_result"
    }
   ],
   "source": [
    "SoftmaxMaskedInputNoFeedback(4)(X)"
   ]
  },
  {
   "cell_type": "code",
   "execution_count": 7,
   "id": "442d7a89-1e4d-47d6-9d05-731ea35cb3ac",
   "metadata": {},
   "outputs": [
    {
     "data": {
      "text/plain": [
       "(<tf.Tensor: shape=(3, 4, 2), dtype=float32, numpy=\n",
       " array([[[0.12626415, 0.15389039],\n",
       "         [0.03846013, 0.5730424 ],\n",
       "         [0.06459904, 0.44826254],\n",
       "         [0.07902581, 0.3793931 ]],\n",
       " \n",
       "        [[0.04046908, 0.03595577],\n",
       "         [0.0123269 , 0.13388868],\n",
       "         [0.02070471, 0.10473445],\n",
       "         [0.02532866, 0.08864342]],\n",
       " \n",
       "        [[0.6055282 , 0.01086902],\n",
       "         [0.18444419, 0.040473  ],\n",
       "         [0.3097992 , 0.03166002],\n",
       "         [0.37898606, 0.02679589]]], dtype=float32)>,\n",
       " <tf.Tensor: shape=(4, 2), dtype=float32, numpy=\n",
       " array([[0.7966135 , 0.20338646],\n",
       "        [0.24264888, 0.7573511 ],\n",
       "        [0.40756193, 0.5924381 ],\n",
       "        [0.49858195, 0.50141805]], dtype=float32)>)"
      ]
     },
     "execution_count": 7,
     "metadata": {},
     "output_type": "execute_result"
    }
   ],
   "source": [
    "SoftmaxMaskedInputWithFeedback(4)([X, prior_masks])"
   ]
  },
  {
   "cell_type": "code",
   "execution_count": 8,
   "id": "1ce1800d-6834-4bab-917a-dcddec174e31",
   "metadata": {},
   "outputs": [
    {
     "data": {
      "text/plain": [
       "(<tf.Tensor: shape=(3, 4, 2), dtype=float32, numpy=\n",
       " array([[[0.15850115, 0.        ],\n",
       "         [0.15850115, 0.7566403 ],\n",
       "         [0.15850115, 0.        ],\n",
       "         [0.        , 0.7566403 ]],\n",
       " \n",
       "        [[0.0508014 , 0.        ],\n",
       "         [0.0508014 , 0.17678547],\n",
       "         [0.0508014 , 0.        ],\n",
       "         [0.        , 0.17678547]],\n",
       " \n",
       "        [[0.7601279 , 0.        ],\n",
       "         [0.7601279 , 0.05344021],\n",
       "         [0.7601279 , 0.        ],\n",
       "         [0.        , 0.05344021]]], dtype=float32)>,\n",
       " <tf.Tensor: shape=(4, 2), dtype=float32, numpy=\n",
       " array([[1., 0.],\n",
       "        [1., 1.],\n",
       "        [1., 0.],\n",
       "        [0., 1.]], dtype=float32)>)"
      ]
     },
     "execution_count": 8,
     "metadata": {},
     "output_type": "execute_result"
    }
   ],
   "source": [
    "FracOnesMaskedInputNoFeedback(4, .5)(X)"
   ]
  },
  {
   "cell_type": "code",
   "execution_count": 9,
   "id": "dc1a944d-7fe4-4f86-91a3-881e53f15e47",
   "metadata": {},
   "outputs": [
    {
     "data": {
      "text/plain": [
       "(<tf.Tensor: shape=(3, 4, 2), dtype=float32, numpy=\n",
       " array([[[0.        , 0.        ],\n",
       "         [0.15850115, 0.7566403 ],\n",
       "         [0.15850115, 0.        ],\n",
       "         [0.        , 0.        ]],\n",
       " \n",
       "        [[0.        , 0.        ],\n",
       "         [0.0508014 , 0.17678547],\n",
       "         [0.0508014 , 0.        ],\n",
       "         [0.        , 0.        ]],\n",
       " \n",
       "        [[0.        , 0.        ],\n",
       "         [0.7601279 , 0.05344021],\n",
       "         [0.7601279 , 0.        ],\n",
       "         [0.        , 0.        ]]], dtype=float32)>,\n",
       " <tf.Tensor: shape=(4, 2), dtype=float32, numpy=\n",
       " array([[0., 0.],\n",
       "        [1., 1.],\n",
       "        [1., 0.],\n",
       "        [0., 0.]], dtype=float32)>)"
      ]
     },
     "execution_count": 9,
     "metadata": {},
     "output_type": "execute_result"
    }
   ],
   "source": [
    "FracOnesMaskedInputWithFeedback(4, .5)([X, prior_masks])"
   ]
  },
  {
   "cell_type": "code",
   "execution_count": 10,
   "id": "788904de-3ee1-4643-aa71-c3b108805dc3",
   "metadata": {},
   "outputs": [
    {
     "data": {
      "text/plain": [
       "(<tf.Tensor: shape=(3, 4, 2), dtype=float32, numpy=\n",
       " array([[[0.15850115, 0.7566403 ],\n",
       "         [0.15850115, 0.7566403 ],\n",
       "         [0.15850115, 0.7566403 ],\n",
       "         [0.15850115, 0.7566403 ]],\n",
       " \n",
       "        [[0.0508014 , 0.17678547],\n",
       "         [0.0508014 , 0.17678547],\n",
       "         [0.0508014 , 0.17678547],\n",
       "         [0.0508014 , 0.17678547]],\n",
       " \n",
       "        [[0.7601279 , 0.05344021],\n",
       "         [0.7601279 , 0.05344021],\n",
       "         [0.7601279 , 0.05344021],\n",
       "         [0.7601279 , 0.05344021]]], dtype=float32)>,\n",
       " <tf.Tensor: shape=(4, 2), dtype=float32, numpy=\n",
       " array([[1., 1.],\n",
       "        [1., 1.],\n",
       "        [1., 1.],\n",
       "        [1., 1.]], dtype=float32)>)"
      ]
     },
     "execution_count": 10,
     "metadata": {},
     "output_type": "execute_result"
    }
   ],
   "source": [
    "AllOnesMaskedInputNoFeedback(4)(X)"
   ]
  },
  {
   "cell_type": "code",
   "execution_count": 11,
   "id": "7f4cb4c3-49f3-4ed2-8b2a-43f66dc042a4",
   "metadata": {},
   "outputs": [
    {
     "data": {
      "text/plain": [
       "(<tf.Tensor: shape=(3, 4, 2), dtype=float32, numpy=\n",
       " array([[[0.15850115, 0.7566403 ],\n",
       "         [0.15850115, 0.7566403 ],\n",
       "         [0.15850115, 0.7566403 ],\n",
       "         [0.15850115, 0.7566403 ]],\n",
       " \n",
       "        [[0.0508014 , 0.17678547],\n",
       "         [0.0508014 , 0.17678547],\n",
       "         [0.0508014 , 0.17678547],\n",
       "         [0.0508014 , 0.17678547]],\n",
       " \n",
       "        [[0.7601279 , 0.05344021],\n",
       "         [0.7601279 , 0.05344021],\n",
       "         [0.7601279 , 0.05344021],\n",
       "         [0.7601279 , 0.05344021]]], dtype=float32)>,\n",
       " <tf.Tensor: shape=(4, 2), dtype=float32, numpy=\n",
       " array([[1., 1.],\n",
       "        [1., 1.],\n",
       "        [1., 1.],\n",
       "        [1., 1.]], dtype=float32)>)"
      ]
     },
     "execution_count": 11,
     "metadata": {},
     "output_type": "execute_result"
    }
   ],
   "source": [
    "AllOnesMaskedInputWithFeedback(4)([X, prior_masks])"
   ]
  },
  {
   "cell_type": "code",
   "execution_count": 12,
   "id": "5777a71b-4fce-4aab-b131-acf552a45f45",
   "metadata": {},
   "outputs": [
    {
     "data": {
      "text/plain": [
       "(<tf.Tensor: shape=(3, 4, 2), dtype=float32, numpy=\n",
       " array([[[0.07477167, 0.13902953],\n",
       "         [0.11737686, 0.59782964],\n",
       "         [0.08660977, 0.23357078],\n",
       "         [0.03747033, 0.23745726]],\n",
       " \n",
       "        [[0.02396516, 0.0324836 ],\n",
       "         [0.0376206 , 0.13968009],\n",
       "         [0.0277594 , 0.05457272],\n",
       "         [0.01200966, 0.05548078]],\n",
       " \n",
       "        [[0.35858437, 0.00981942],\n",
       "         [0.56290716, 0.04222368],\n",
       "         [0.4153566 , 0.0164967 ],\n",
       "         [0.17969741, 0.0167712 ]]], dtype=float32)>,\n",
       " <tf.Tensor: shape=(4, 2), dtype=float32, numpy=\n",
       " array([[0.47174215, 0.18374586],\n",
       "        [0.74054265, 0.7901107 ],\n",
       "        [0.5464299 , 0.3086946 ],\n",
       "        [0.23640418, 0.3138311 ]], dtype=float32)>)"
      ]
     },
     "execution_count": 12,
     "metadata": {},
     "output_type": "execute_result"
    }
   ],
   "source": [
    "RandomMaskedInputNoFeedback(4)(X)"
   ]
  },
  {
   "cell_type": "code",
   "execution_count": 13,
   "id": "0cb94275-d7a6-4b90-8bec-aafa7301165d",
   "metadata": {},
   "outputs": [
    {
     "data": {
      "text/plain": [
       "(<tf.Tensor: shape=(3, 4, 2), dtype=float32, numpy=\n",
       " array([[[0.04712604, 0.34100538],\n",
       "         [0.05526008, 0.33423147],\n",
       "         [0.09752072, 0.56995386],\n",
       "         [0.15032168, 0.65310687]],\n",
       " \n",
       "        [[0.01510442, 0.07967431],\n",
       "         [0.01771148, 0.07809162],\n",
       "         [0.03125649, 0.13316704],\n",
       "         [0.04817979, 0.15259537]],\n",
       " \n",
       "        [[0.2260035 , 0.02408463],\n",
       "         [0.26501215, 0.0236062 ],\n",
       "         [0.46768254, 0.04025486],\n",
       "         [0.7209014 , 0.04612783]]], dtype=float32)>,\n",
       " <tf.Tensor: shape=(4, 2), dtype=float32, numpy=\n",
       " array([[0.297323  , 0.4506836 ],\n",
       "        [0.3486415 , 0.44173098],\n",
       "        [0.61526823, 0.7532692 ],\n",
       "        [0.9483949 , 0.8631669 ]], dtype=float32)>)"
      ]
     },
     "execution_count": 13,
     "metadata": {},
     "output_type": "execute_result"
    }
   ],
   "source": [
    "RandomMaskedInputWithFeedback(4)([X, prior_masks])"
   ]
  },
  {
   "cell_type": "code",
   "execution_count": null,
   "id": "0154950f-8dde-4f34-9269-98c78d12956c",
   "metadata": {},
   "outputs": [],
   "source": []
  },
  {
   "cell_type": "code",
   "execution_count": null,
   "id": "f0848f55-dc28-4635-accc-c07bc78a5a18",
   "metadata": {},
   "outputs": [],
   "source": []
  }
 ],
 "metadata": {
  "kernelspec": {
   "display_name": "Python 3 (ipykernel)",
   "language": "python",
   "name": "python3"
  },
  "language_info": {
   "codemirror_mode": {
    "name": "ipython",
    "version": 3
   },
   "file_extension": ".py",
   "mimetype": "text/x-python",
   "name": "python",
   "nbconvert_exporter": "python",
   "pygments_lexer": "ipython3",
   "version": "3.9.7"
  }
 },
 "nbformat": 4,
 "nbformat_minor": 5
}
