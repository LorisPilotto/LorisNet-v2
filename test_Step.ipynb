{
 "cells": [
  {
   "cell_type": "code",
   "execution_count": 1,
   "id": "9ad61238-1e71-4030-8bfe-0d46d40b6fca",
   "metadata": {},
   "outputs": [],
   "source": [
    "from LorisNet import *\n",
    "import tensorflow as tf"
   ]
  },
  {
   "cell_type": "code",
   "execution_count": 2,
   "id": "e3ca183b-3cf6-41af-8925-0a7c6f8a053d",
   "metadata": {},
   "outputs": [
    {
     "data": {
      "text/plain": [
       "<tf.Tensor: shape=(3, 2), dtype=float32, numpy=\n",
       "array([[0.34617925, 0.23332465],\n",
       "       [0.09996319, 0.43747115],\n",
       "       [0.03560889, 0.43966746]], dtype=float32)>"
      ]
     },
     "execution_count": 2,
     "metadata": {},
     "output_type": "execute_result"
    }
   ],
   "source": [
    "X = tf.random.uniform((3, 2))\n",
    "\n",
    "X"
   ]
  },
  {
   "cell_type": "code",
   "execution_count": 3,
   "id": "cb88a717-d459-4711-86b4-d8897cc79718",
   "metadata": {},
   "outputs": [
    {
     "data": {
      "text/plain": [
       "(<tf.Tensor: shape=(3, 4, 1), dtype=float32, numpy=\n",
       " array([[[0.3449342 ],\n",
       "         [0.36041698],\n",
       "         [0.19241135],\n",
       "         [0.24615122]],\n",
       " \n",
       "        [[0.3002882 ],\n",
       "         [0.32640117],\n",
       "         [0.20823395],\n",
       "         [0.2610625 ]],\n",
       " \n",
       "        [[0.29055822],\n",
       "         [0.325723  ],\n",
       "         [0.20868361],\n",
       "         [0.26717603]]], dtype=float32)>,\n",
       " <tf.Tensor: shape=(4, 2), dtype=float32, numpy=\n",
       " array([[1., 1.],\n",
       "        [1., 1.],\n",
       "        [1., 1.],\n",
       "        [1., 1.]], dtype=float32)>,\n",
       " <tf.Tensor: shape=(3, 4, 1), dtype=float32, numpy=\n",
       " array([[[0.5702148 ],\n",
       "         [0.45438036],\n",
       "         [0.5435575 ],\n",
       "         [0.4251093 ]],\n",
       " \n",
       "        [[0.49641   ],\n",
       "         [0.41149637],\n",
       "         [0.588256  ],\n",
       "         [0.45086145]],\n",
       " \n",
       "        [[0.48032522],\n",
       "         [0.4106414 ],\n",
       "         [0.5895263 ],\n",
       "         [0.46141967]]], dtype=float32)>)"
      ]
     },
     "execution_count": 3,
     "metadata": {},
     "output_type": "execute_result"
    }
   ],
   "source": [
    "s = StepNoFeedback(AllOnesMaskedInputNoFeedback(4),\n",
    "                   LinearSeparators(),\n",
    "                   PredictionNeurons(units=1)\n",
    "                  )\n",
    "\n",
    "s(X)"
   ]
  },
  {
   "cell_type": "code",
   "execution_count": 4,
   "id": "af2805e8-d72d-447d-a511-22f6b27f20ee",
   "metadata": {},
   "outputs": [
    {
     "data": {
      "text/plain": [
       "(<tf.Tensor: shape=(3, 4, 2), dtype=float32, numpy=\n",
       " array([[[ 0.23330763,  0.20244361],\n",
       "         [ 0.06034079,  0.05434024],\n",
       "         [-0.22679655,  0.28828347],\n",
       "         [ 0.18380556,  0.3457544 ]],\n",
       " \n",
       "        [[ 0.22974886,  0.19935562],\n",
       "         [ 0.06704023,  0.06037346],\n",
       "         [-0.22833699,  0.2902415 ],\n",
       "         [ 0.18257451,  0.34343868]],\n",
       " \n",
       "        [[ 0.22837082,  0.19815987],\n",
       "         [ 0.06804482,  0.06127814],\n",
       "         [-0.2270857 ,  0.28865096],\n",
       "         [ 0.1822201 ,  0.34277204]]], dtype=float32)>,\n",
       " <tf.Tensor: shape=(4, 2), dtype=float32, numpy=\n",
       " array([[1., 1.],\n",
       "        [1., 1.],\n",
       "        [1., 1.],\n",
       "        [1., 1.]], dtype=float32)>,\n",
       " <tf.Tensor: shape=(3, 4, 1), dtype=float32, numpy=\n",
       " array([[[0.5213535 ],\n",
       "         [0.48482084],\n",
       "         [0.5346841 ],\n",
       "         [0.5056747 ]],\n",
       " \n",
       "        [[0.513401  ],\n",
       "         [0.5386489 ],\n",
       "         [0.5383158 ],\n",
       "         [0.5022879 ]],\n",
       " \n",
       "        [[0.51032156],\n",
       "         [0.54672045],\n",
       "         [0.53536576],\n",
       "         [0.5013129 ]]], dtype=float32)>)"
      ]
     },
     "execution_count": 4,
     "metadata": {},
     "output_type": "execute_result"
    }
   ],
   "source": [
    "s = StepNoFeedback(AllOnesMaskedInputNoFeedback(4),\n",
    "                   LinearSeparators(),\n",
    "                   PredictionNeurons(units=2)\n",
    "                  )\n",
    "\n",
    "s(X)"
   ]
  },
  {
   "cell_type": "code",
   "execution_count": 5,
   "id": "a5aa3183-85a5-4f89-ac0f-d2cb02b1a221",
   "metadata": {},
   "outputs": [
    {
     "data": {
      "text/plain": [
       "<tf.Tensor: shape=(4, 5, 2), dtype=float32, numpy=\n",
       "array([[[0.27896667, 0.42844093],\n",
       "        [0.49938738, 0.04502499],\n",
       "        [0.9670057 , 0.51873815],\n",
       "        [0.08973134, 0.610579  ],\n",
       "        [0.264629  , 0.93021214]],\n",
       "\n",
       "       [[0.9391912 , 0.2569152 ],\n",
       "        [0.36263943, 0.887625  ],\n",
       "        [0.3378483 , 0.02049363],\n",
       "        [0.73770666, 0.6122092 ],\n",
       "        [0.13505149, 0.6978799 ]],\n",
       "\n",
       "       [[0.17800236, 0.9410336 ],\n",
       "        [0.47867942, 0.7204573 ],\n",
       "        [0.510877  , 0.23137939],\n",
       "        [0.12933922, 0.50926363],\n",
       "        [0.83841753, 0.8222896 ]],\n",
       "\n",
       "       [[0.2712698 , 0.94607794],\n",
       "        [0.8613924 , 0.11968565],\n",
       "        [0.56804264, 0.44026566],\n",
       "        [0.45729518, 0.05606043],\n",
       "        [0.5522417 , 0.8859829 ]]], dtype=float32)>"
      ]
     },
     "execution_count": 5,
     "metadata": {},
     "output_type": "execute_result"
    }
   ],
   "source": [
    "prior_masks = tf.random.uniform((4, 5, 2))  # nbr masks, nbr prior masks, input dim\n",
    "\n",
    "prior_masks"
   ]
  },
  {
   "cell_type": "code",
   "execution_count": 6,
   "id": "870f21d5-555b-4c84-83cf-24cd2a88186b",
   "metadata": {},
   "outputs": [
    {
     "data": {
      "text/plain": [
       "<tf.Tensor: shape=(3, 4, 5), dtype=float32, numpy=\n",
       "array([[[0.30537403, 0.3868475 , 0.4828881 , 0.23279715, 0.7722249 ],\n",
       "        [0.873196  , 0.11857331, 0.23658371, 0.12975132, 0.72630906],\n",
       "        [0.16155231, 0.46725786, 0.08772993, 0.6007781 , 0.68788993],\n",
       "        [0.98215246, 0.44868588, 0.00503707, 0.11808217, 0.70148265]],\n",
       "\n",
       "       [[0.03085124, 0.8423419 , 0.16728842, 0.4664675 , 0.90744364],\n",
       "        [0.92441773, 0.22681701, 0.50835705, 0.5582608 , 0.50137174],\n",
       "        [0.6271589 , 0.22509658, 0.31789935, 0.555753  , 0.622916  ],\n",
       "        [0.991838  , 0.9098451 , 0.9960681 , 0.9615649 , 0.03560948]],\n",
       "\n",
       "       [[0.906662  , 0.4495194 , 0.09040964, 0.8877772 , 0.05352414],\n",
       "        [0.26305032, 0.38315153, 0.5735986 , 0.24909139, 0.85126257],\n",
       "        [0.49261177, 0.76107216, 0.70280945, 0.6941341 , 0.10145557],\n",
       "        [0.03291106, 0.91461945, 0.5351708 , 0.05594039, 0.6490482 ]]],\n",
       "      dtype=float32)>"
      ]
     },
     "execution_count": 6,
     "metadata": {},
     "output_type": "execute_result"
    }
   ],
   "source": [
    "prior_spacial_indicators = tf.random.uniform((3, 4, 5))\n",
    "\n",
    "prior_spacial_indicators"
   ]
  },
  {
   "cell_type": "code",
   "execution_count": 7,
   "id": "e932182f-116a-4d22-9518-4d7c4b8b8eac",
   "metadata": {},
   "outputs": [
    {
     "data": {
      "text/plain": [
       "(<tf.Tensor: shape=(3, 4, 1), dtype=float32, numpy=\n",
       " array([[[ 0.2073555 ],\n",
       "         [ 0.09030516],\n",
       "         [-0.00903746],\n",
       "         [-0.6119548 ]],\n",
       " \n",
       "        [[ 0.12916571],\n",
       "         [ 0.18311608],\n",
       "         [-0.2120857 ],\n",
       "         [-0.7027017 ]],\n",
       " \n",
       "        [[ 0.5431168 ],\n",
       "         [-0.06822281],\n",
       "         [ 0.09245186],\n",
       "         [-0.5165236 ]]], dtype=float32)>,\n",
       " <tf.Tensor: shape=(4, 2), dtype=float32, numpy=\n",
       " array([[1., 1.],\n",
       "        [1., 1.],\n",
       "        [1., 1.],\n",
       "        [1., 1.]], dtype=float32)>,\n",
       " <tf.Tensor: shape=(3, 4, 1), dtype=float32, numpy=\n",
       " array([[[0.5065474 ],\n",
       "         [0.4342641 ],\n",
       "         [0.5479716 ],\n",
       "         [0.6070154 ]],\n",
       " \n",
       "        [[0.5866813 ],\n",
       "         [0.41165733],\n",
       "         [0.603297  ],\n",
       "         [0.6108551 ]],\n",
       " \n",
       "        [[0.59570277],\n",
       "         [0.41519693],\n",
       "         [0.60544765],\n",
       "         [0.6011225 ]]], dtype=float32)>)"
      ]
     },
     "execution_count": 7,
     "metadata": {},
     "output_type": "execute_result"
    }
   ],
   "source": [
    "s = StepWithFeedback(AllOnesMaskedInputWithFeedback(4),\n",
    "                     LinearSeparators(),\n",
    "                     PredictionNeurons(units=1)\n",
    "                    )\n",
    "\n",
    "s([X, prior_masks, prior_spacial_indicators])"
   ]
  },
  {
   "cell_type": "code",
   "execution_count": 8,
   "id": "587cb587-c455-4eb8-b49b-177e67938bf1",
   "metadata": {},
   "outputs": [
    {
     "data": {
      "text/plain": [
       "(<tf.Tensor: shape=(3, 4, 2), dtype=float32, numpy=\n",
       " array([[[-0.03080851, -0.01689063],\n",
       "         [-0.27926773,  0.08529964],\n",
       "         [ 0.32989383,  0.21101171],\n",
       "         [-0.25624335,  0.33558553]],\n",
       " \n",
       "        [[-0.01291794, -0.03963038],\n",
       "         [-0.24399242, -0.10604595],\n",
       "         [ 0.53481615, -0.1385482 ],\n",
       "         [ 0.13127059,  0.3383639 ]],\n",
       " \n",
       "        [[-0.25915316, -0.15770139],\n",
       "         [-0.11195087, -0.15672411],\n",
       "         [ 0.4426628 , -0.11184054],\n",
       "         [ 0.4986598 ,  0.14746228]]], dtype=float32)>,\n",
       " <tf.Tensor: shape=(4, 2), dtype=float32, numpy=\n",
       " array([[1., 1.],\n",
       "        [1., 1.],\n",
       "        [1., 1.],\n",
       "        [1., 1.]], dtype=float32)>,\n",
       " <tf.Tensor: shape=(3, 4, 1), dtype=float32, numpy=\n",
       " array([[[0.3905609 ],\n",
       "         [0.5936675 ],\n",
       "         [0.40647614],\n",
       "         [0.50989914]],\n",
       " \n",
       "        [[0.38086277],\n",
       "         [0.5516934 ],\n",
       "         [0.44376975],\n",
       "         [0.5899898 ]],\n",
       " \n",
       "        [[0.3900316 ],\n",
       "         [0.5372068 ],\n",
       "         [0.45763752],\n",
       "         [0.598679  ]]], dtype=float32)>)"
      ]
     },
     "execution_count": 8,
     "metadata": {},
     "output_type": "execute_result"
    }
   ],
   "source": [
    "s = StepWithFeedback(AllOnesMaskedInputWithFeedback(4),\n",
    "                     LinearSeparators(),\n",
    "                     PredictionNeurons(units=2)\n",
    "                    )\n",
    "\n",
    "s([X, prior_masks, prior_spacial_indicators])"
   ]
  },
  {
   "cell_type": "code",
   "execution_count": null,
   "id": "e56289aa-699f-458b-9840-3504da1ebe2f",
   "metadata": {},
   "outputs": [],
   "source": []
  }
 ],
 "metadata": {
  "kernelspec": {
   "display_name": "Python 3 (ipykernel)",
   "language": "python",
   "name": "python3"
  },
  "language_info": {
   "codemirror_mode": {
    "name": "ipython",
    "version": 3
   },
   "file_extension": ".py",
   "mimetype": "text/x-python",
   "name": "python",
   "nbconvert_exporter": "python",
   "pygments_lexer": "ipython3",
   "version": "3.9.7"
  }
 },
 "nbformat": 4,
 "nbformat_minor": 5
}
