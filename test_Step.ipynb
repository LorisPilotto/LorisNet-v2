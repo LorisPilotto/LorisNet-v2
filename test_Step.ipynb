{
 "cells": [
  {
   "cell_type": "code",
   "execution_count": 1,
   "id": "9ad61238-1e71-4030-8bfe-0d46d40b6fca",
   "metadata": {},
   "outputs": [],
   "source": [
    "from LorisNet import *\n",
    "import tensorflow as tf"
   ]
  },
  {
   "cell_type": "code",
   "execution_count": 2,
   "id": "e3ca183b-3cf6-41af-8925-0a7c6f8a053d",
   "metadata": {},
   "outputs": [
    {
     "data": {
      "text/plain": [
       "<tf.Tensor: shape=(3, 2), dtype=float32, numpy=\n",
       "array([[0.2421031 , 0.35309362],\n",
       "       [0.5748199 , 0.2997818 ],\n",
       "       [0.77098453, 0.5100765 ]], dtype=float32)>"
      ]
     },
     "execution_count": 2,
     "metadata": {},
     "output_type": "execute_result"
    }
   ],
   "source": [
    "X = tf.random.uniform((3, 2))\n",
    "\n",
    "X"
   ]
  },
  {
   "cell_type": "code",
   "execution_count": 3,
   "id": "cb88a717-d459-4711-86b4-d8897cc79718",
   "metadata": {},
   "outputs": [
    {
     "data": {
      "text/plain": [
       "(<tf.Tensor: shape=(3, 4, 1), dtype=float32, numpy=\n",
       " array([[[-0.16230798],\n",
       "         [ 0.09200797],\n",
       "         [-0.0297331 ],\n",
       "         [ 0.3608997 ]],\n",
       " \n",
       "        [[-0.18682544],\n",
       "         [ 0.08052108],\n",
       "         [-0.02496391],\n",
       "         [ 0.36609727]],\n",
       " \n",
       "        [[-0.19301784],\n",
       "         [ 0.06611964],\n",
       "         [-0.02501376],\n",
       "         [ 0.34439638]]], dtype=float32)>,\n",
       " <tf.Tensor: shape=(4, 2), dtype=float32, numpy=\n",
       " array([[1., 1.],\n",
       "        [1., 1.],\n",
       "        [1., 1.],\n",
       "        [1., 1.]], dtype=float32)>,\n",
       " <tf.Tensor: shape=(3, 4, 1), dtype=float32, numpy=\n",
       " array([[[0.5152721 ],\n",
       "         [0.39689445],\n",
       "         [0.52055734],\n",
       "         [0.45386586]],\n",
       " \n",
       "        [[0.5931066 ],\n",
       "         [0.34734347],\n",
       "         [0.43705985],\n",
       "         [0.46040234]],\n",
       " \n",
       "        [[0.6127654 ],\n",
       "         [0.28522006],\n",
       "         [0.43793273],\n",
       "         [0.43311137]]], dtype=float32)>)"
      ]
     },
     "execution_count": 3,
     "metadata": {},
     "output_type": "execute_result"
    }
   ],
   "source": [
    "s = StepNoFeedback(AllOnesMaskedInputNoFeedback(4),\n",
    "                   LinearSeparators(),\n",
    "                   PredictionNeurons()\n",
    "                  )\n",
    "\n",
    "s(X)"
   ]
  },
  {
   "cell_type": "code",
   "execution_count": 4,
   "id": "a5aa3183-85a5-4f89-ac0f-d2cb02b1a221",
   "metadata": {},
   "outputs": [
    {
     "data": {
      "text/plain": [
       "<tf.Tensor: shape=(4, 5, 2), dtype=float32, numpy=\n",
       "array([[[6.6631436e-01, 5.2636743e-02],\n",
       "        [5.5149484e-01, 7.2762311e-01],\n",
       "        [2.0756578e-01, 6.0176265e-01],\n",
       "        [3.7809813e-01, 9.2873693e-02],\n",
       "        [1.2737703e-01, 7.6140285e-02]],\n",
       "\n",
       "       [[8.0842006e-01, 8.8106382e-01],\n",
       "        [7.5038159e-01, 2.1830523e-01],\n",
       "        [9.4378316e-01, 4.6865463e-01],\n",
       "        [5.4643452e-01, 8.4877014e-05],\n",
       "        [5.6567144e-01, 3.6465168e-02]],\n",
       "\n",
       "       [[1.4692378e-01, 4.4754446e-01],\n",
       "        [6.5853667e-01, 8.2133794e-01],\n",
       "        [5.4055130e-01, 1.9880342e-01],\n",
       "        [3.6226344e-01, 8.0358326e-01],\n",
       "        [2.6640856e-01, 5.7882071e-03]],\n",
       "\n",
       "       [[7.4201322e-01, 9.8172426e-03],\n",
       "        [5.3524542e-01, 1.1505520e-01],\n",
       "        [8.9622617e-01, 2.3636103e-02],\n",
       "        [8.6917126e-01, 8.8179684e-01],\n",
       "        [6.6400754e-01, 6.5974271e-01]]], dtype=float32)>"
      ]
     },
     "execution_count": 4,
     "metadata": {},
     "output_type": "execute_result"
    }
   ],
   "source": [
    "prior_masks = tf.random.uniform((4, 5, 2))  # nbr masks, nbr prior masks, input dim\n",
    "\n",
    "prior_masks"
   ]
  },
  {
   "cell_type": "code",
   "execution_count": 5,
   "id": "870f21d5-555b-4c84-83cf-24cd2a88186b",
   "metadata": {},
   "outputs": [
    {
     "data": {
      "text/plain": [
       "<tf.Tensor: shape=(3, 4, 5), dtype=float32, numpy=\n",
       "array([[[0.15741503, 0.36818373, 0.20693767, 0.48318493, 0.19458234],\n",
       "        [0.09094453, 0.23159707, 0.9383167 , 0.2325747 , 0.53208303],\n",
       "        [0.98559344, 0.7204757 , 0.6219449 , 0.9655665 , 0.43991458],\n",
       "        [0.08094406, 0.79372275, 0.11147308, 0.11628067, 0.21111667]],\n",
       "\n",
       "       [[0.12134993, 0.800609  , 0.986372  , 0.33926368, 0.62208796],\n",
       "        [0.7531278 , 0.29873133, 0.90100133, 0.81564   , 0.44145453],\n",
       "        [0.2940756 , 0.26440895, 0.37807882, 0.9182757 , 0.01313305],\n",
       "        [0.5963354 , 0.20085752, 0.62716556, 0.27764952, 0.14738321]],\n",
       "\n",
       "       [[0.77049637, 0.7011156 , 0.8656794 , 0.9581324 , 0.9602606 ],\n",
       "        [0.06418312, 0.8122184 , 0.20168781, 0.94971275, 0.07452154],\n",
       "        [0.51996887, 0.38889956, 0.07291365, 0.13302279, 0.9431236 ],\n",
       "        [0.10276484, 0.35562134, 0.11652529, 0.19484997, 0.04330909]]],\n",
       "      dtype=float32)>"
      ]
     },
     "execution_count": 5,
     "metadata": {},
     "output_type": "execute_result"
    }
   ],
   "source": [
    "prior_spacial_indicators = tf.random.uniform((3, 4, 5))\n",
    "\n",
    "prior_spacial_indicators"
   ]
  },
  {
   "cell_type": "code",
   "execution_count": 6,
   "id": "e932182f-116a-4d22-9518-4d7c4b8b8eac",
   "metadata": {},
   "outputs": [
    {
     "data": {
      "text/plain": [
       "(<tf.Tensor: shape=(3, 4, 1), dtype=float32, numpy=\n",
       " array([[[-0.12196392],\n",
       "         [-0.8422849 ],\n",
       "         [-0.19291478],\n",
       "         [ 0.27706605]],\n",
       " \n",
       "        [[-0.02316923],\n",
       "         [-1.086077  ],\n",
       "         [ 0.15856098],\n",
       "         [ 0.39009312]],\n",
       " \n",
       "        [[ 0.07138112],\n",
       "         [ 0.34220833],\n",
       "         [-0.35076916],\n",
       "         [ 0.15810238]]], dtype=float32)>,\n",
       " <tf.Tensor: shape=(4, 2), dtype=float32, numpy=\n",
       " array([[1., 1.],\n",
       "        [1., 1.],\n",
       "        [1., 1.],\n",
       "        [1., 1.]], dtype=float32)>,\n",
       " <tf.Tensor: shape=(3, 4, 1), dtype=float32, numpy=\n",
       " array([[[0.45373654],\n",
       "         [0.4621562 ],\n",
       "         [0.40907937],\n",
       "         [0.5579287 ]],\n",
       " \n",
       "        [[0.3774282 ],\n",
       "         [0.40132412],\n",
       "         [0.3521512 ],\n",
       "         [0.5355518 ]],\n",
       " \n",
       "        [[0.340903  ],\n",
       "         [0.37087905],\n",
       "         [0.29515335],\n",
       "         [0.5679052 ]]], dtype=float32)>)"
      ]
     },
     "execution_count": 6,
     "metadata": {},
     "output_type": "execute_result"
    }
   ],
   "source": [
    "s = StepWithFeedback(AllOnesMaskedInputWithFeedback(4),\n",
    "                     LinearSeparators(),\n",
    "                     PredictionNeurons()\n",
    "                    )\n",
    "\n",
    "s([X, prior_masks, prior_spacial_indicators])"
   ]
  },
  {
   "cell_type": "code",
   "execution_count": null,
   "id": "587cb587-c455-4eb8-b49b-177e67938bf1",
   "metadata": {},
   "outputs": [],
   "source": []
  }
 ],
 "metadata": {
  "kernelspec": {
   "display_name": "Python 3 (ipykernel)",
   "language": "python",
   "name": "python3"
  },
  "language_info": {
   "codemirror_mode": {
    "name": "ipython",
    "version": 3
   },
   "file_extension": ".py",
   "mimetype": "text/x-python",
   "name": "python",
   "nbconvert_exporter": "python",
   "pygments_lexer": "ipython3",
   "version": "3.9.7"
  }
 },
 "nbformat": 4,
 "nbformat_minor": 5
}
